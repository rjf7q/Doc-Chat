{
  "cells": [
    {
      "cell_type": "code",
      "execution_count": 18,
      "metadata": {
        "colab": {
          "base_uri": "https://localhost:8080/"
        },
        "id": "_oSd22v40nUD",
        "outputId": "11677353-7bfc-4dea-c380-969848dc0c6c"
      },
      "outputs": [
        {
          "name": "stderr",
          "output_type": "stream",
          "text": [
            "huggingface/tokenizers: The current process just got forked, after parallelism has already been used. Disabling parallelism to avoid deadlocks...\n",
            "To disable this warning, you can either:\n",
            "\t- Avoid using `tokenizers` before the fork if possible\n",
            "\t- Explicitly set the environment variable TOKENIZERS_PARALLELISM=(true | false)\n"
          ]
        },
        {
          "name": "stdout",
          "output_type": "stream",
          "text": [
            "Requirement already satisfied: langchain_community in /opt/anaconda3/envs/dev/lib/python3.9/site-packages (0.3.18)\n",
            "Requirement already satisfied: langchain_text_splitters in /opt/anaconda3/envs/dev/lib/python3.9/site-packages (0.3.6)\n",
            "Requirement already satisfied: langchain_openai in /opt/anaconda3/envs/dev/lib/python3.9/site-packages (0.3.7)\n",
            "Requirement already satisfied: langchain_chroma in /opt/anaconda3/envs/dev/lib/python3.9/site-packages (0.2.2)\n",
            "Requirement already satisfied: gradio in /opt/anaconda3/envs/dev/lib/python3.9/site-packages (4.44.1)\n",
            "Requirement already satisfied: python-dotenv in /opt/anaconda3/envs/dev/lib/python3.9/site-packages (0.21.0)\n",
            "Requirement already satisfied: langchain-core<1.0.0,>=0.3.37 in /opt/anaconda3/envs/dev/lib/python3.9/site-packages (from langchain_community) (0.3.39)\n",
            "Requirement already satisfied: langchain<1.0.0,>=0.3.19 in /opt/anaconda3/envs/dev/lib/python3.9/site-packages (from langchain_community) (0.3.19)\n",
            "Requirement already satisfied: SQLAlchemy<3,>=1.4 in /opt/anaconda3/envs/dev/lib/python3.9/site-packages (from langchain_community) (2.0.38)\n",
            "Requirement already satisfied: requests<3,>=2 in /opt/anaconda3/envs/dev/lib/python3.9/site-packages (from langchain_community) (2.32.3)\n",
            "Requirement already satisfied: PyYAML>=5.3 in /opt/anaconda3/envs/dev/lib/python3.9/site-packages (from langchain_community) (6.0.2)\n",
            "Requirement already satisfied: aiohttp<4.0.0,>=3.8.3 in /opt/anaconda3/envs/dev/lib/python3.9/site-packages (from langchain_community) (3.11.10)\n",
            "Requirement already satisfied: tenacity!=8.4.0,<10,>=8.1.0 in /opt/anaconda3/envs/dev/lib/python3.9/site-packages (from langchain_community) (9.0.0)\n",
            "Requirement already satisfied: dataclasses-json<0.7,>=0.5.7 in /opt/anaconda3/envs/dev/lib/python3.9/site-packages (from langchain_community) (0.6.7)\n",
            "Requirement already satisfied: pydantic-settings<3.0.0,>=2.4.0 in /opt/anaconda3/envs/dev/lib/python3.9/site-packages (from langchain_community) (2.8.0)\n",
            "Requirement already satisfied: langsmith<0.4,>=0.1.125 in /opt/anaconda3/envs/dev/lib/python3.9/site-packages (from langchain_community) (0.3.10)\n",
            "Requirement already satisfied: httpx-sse<1.0.0,>=0.4.0 in /opt/anaconda3/envs/dev/lib/python3.9/site-packages (from langchain_community) (0.4.0)\n",
            "Requirement already satisfied: numpy<2,>=1.26.4 in /opt/anaconda3/envs/dev/lib/python3.9/site-packages (from langchain_community) (1.26.4)\n",
            "Requirement already satisfied: openai<2.0.0,>=1.58.1 in /opt/anaconda3/envs/dev/lib/python3.9/site-packages (from langchain_openai) (1.65.3)\n",
            "Requirement already satisfied: tiktoken<1,>=0.7 in /opt/anaconda3/envs/dev/lib/python3.9/site-packages (from langchain_openai) (0.9.0)\n",
            "Requirement already satisfied: chromadb!=0.5.10,!=0.5.11,!=0.5.12,!=0.5.4,!=0.5.5,!=0.5.7,!=0.5.9,<0.7.0,>=0.4.0 in /opt/anaconda3/envs/dev/lib/python3.9/site-packages (from langchain_chroma) (0.6.3)\n",
            "Requirement already satisfied: aiofiles<24.0,>=22.0 in /opt/anaconda3/envs/dev/lib/python3.9/site-packages (from gradio) (23.2.1)\n",
            "Requirement already satisfied: anyio<5.0,>=3.0 in /opt/anaconda3/envs/dev/lib/python3.9/site-packages (from gradio) (4.8.0)\n",
            "Requirement already satisfied: fastapi<1.0 in /opt/anaconda3/envs/dev/lib/python3.9/site-packages (from gradio) (0.115.8)\n",
            "Requirement already satisfied: ffmpy in /opt/anaconda3/envs/dev/lib/python3.9/site-packages (from gradio) (0.5.0)\n",
            "Requirement already satisfied: gradio-client==1.3.0 in /opt/anaconda3/envs/dev/lib/python3.9/site-packages (from gradio) (1.3.0)\n",
            "Requirement already satisfied: httpx>=0.24.1 in /opt/anaconda3/envs/dev/lib/python3.9/site-packages (from gradio) (0.28.1)\n",
            "Requirement already satisfied: huggingface-hub>=0.19.3 in /opt/anaconda3/envs/dev/lib/python3.9/site-packages (from gradio) (0.28.0)\n",
            "Requirement already satisfied: importlib-resources<7.0,>=1.3 in /opt/anaconda3/envs/dev/lib/python3.9/site-packages (from gradio) (6.4.0)\n",
            "Requirement already satisfied: jinja2<4.0 in /opt/anaconda3/envs/dev/lib/python3.9/site-packages (from gradio) (3.1.5)\n",
            "Requirement already satisfied: markupsafe~=2.0 in /opt/anaconda3/envs/dev/lib/python3.9/site-packages (from gradio) (2.1.3)\n",
            "Requirement already satisfied: matplotlib~=3.0 in /opt/anaconda3/envs/dev/lib/python3.9/site-packages (from gradio) (3.9.2)\n",
            "Requirement already satisfied: orjson~=3.0 in /opt/anaconda3/envs/dev/lib/python3.9/site-packages (from gradio) (3.10.15)\n",
            "Requirement already satisfied: packaging in /opt/anaconda3/envs/dev/lib/python3.9/site-packages (from gradio) (24.2)\n",
            "Requirement already satisfied: pandas<3.0,>=1.0 in /opt/anaconda3/envs/dev/lib/python3.9/site-packages (from gradio) (2.2.3)\n",
            "Requirement already satisfied: pillow<11.0,>=8.0 in /opt/anaconda3/envs/dev/lib/python3.9/site-packages (from gradio) (10.4.0)\n",
            "Requirement already satisfied: pydantic>=2.0 in /opt/anaconda3/envs/dev/lib/python3.9/site-packages (from gradio) (2.10.3)\n",
            "Requirement already satisfied: pydub in /opt/anaconda3/envs/dev/lib/python3.9/site-packages (from gradio) (0.25.1)\n",
            "Requirement already satisfied: python-multipart>=0.0.9 in /opt/anaconda3/envs/dev/lib/python3.9/site-packages (from gradio) (0.0.20)\n",
            "Requirement already satisfied: ruff>=0.2.2 in /opt/anaconda3/envs/dev/lib/python3.9/site-packages (from gradio) (0.9.7)\n",
            "Requirement already satisfied: semantic-version~=2.0 in /opt/anaconda3/envs/dev/lib/python3.9/site-packages (from gradio) (2.10.0)\n",
            "Requirement already satisfied: tomlkit==0.12.0 in /opt/anaconda3/envs/dev/lib/python3.9/site-packages (from gradio) (0.12.0)\n",
            "Requirement already satisfied: typer<1.0,>=0.12 in /opt/anaconda3/envs/dev/lib/python3.9/site-packages (from gradio) (0.15.1)\n",
            "Requirement already satisfied: typing-extensions~=4.0 in /opt/anaconda3/envs/dev/lib/python3.9/site-packages (from gradio) (4.12.2)\n",
            "Requirement already satisfied: urllib3~=2.0 in /opt/anaconda3/envs/dev/lib/python3.9/site-packages (from gradio) (2.3.0)\n",
            "Requirement already satisfied: uvicorn>=0.14.0 in /opt/anaconda3/envs/dev/lib/python3.9/site-packages (from gradio) (0.34.0)\n",
            "Requirement already satisfied: fsspec in /opt/anaconda3/envs/dev/lib/python3.9/site-packages (from gradio-client==1.3.0->gradio) (2024.12.0)\n",
            "Requirement already satisfied: websockets<13.0,>=10.0 in /opt/anaconda3/envs/dev/lib/python3.9/site-packages (from gradio-client==1.3.0->gradio) (12.0)\n",
            "Requirement already satisfied: aiohappyeyeballs>=2.3.0 in /opt/anaconda3/envs/dev/lib/python3.9/site-packages (from aiohttp<4.0.0,>=3.8.3->langchain_community) (2.4.4)\n",
            "Requirement already satisfied: aiosignal>=1.1.2 in /opt/anaconda3/envs/dev/lib/python3.9/site-packages (from aiohttp<4.0.0,>=3.8.3->langchain_community) (1.2.0)\n",
            "Requirement already satisfied: attrs>=17.3.0 in /opt/anaconda3/envs/dev/lib/python3.9/site-packages (from aiohttp<4.0.0,>=3.8.3->langchain_community) (24.3.0)\n",
            "Requirement already satisfied: frozenlist>=1.1.1 in /opt/anaconda3/envs/dev/lib/python3.9/site-packages (from aiohttp<4.0.0,>=3.8.3->langchain_community) (1.5.0)\n",
            "Requirement already satisfied: multidict<7.0,>=4.5 in /opt/anaconda3/envs/dev/lib/python3.9/site-packages (from aiohttp<4.0.0,>=3.8.3->langchain_community) (6.1.0)\n",
            "Requirement already satisfied: propcache>=0.2.0 in /opt/anaconda3/envs/dev/lib/python3.9/site-packages (from aiohttp<4.0.0,>=3.8.3->langchain_community) (0.2.0)\n",
            "Requirement already satisfied: yarl<2.0,>=1.17.0 in /opt/anaconda3/envs/dev/lib/python3.9/site-packages (from aiohttp<4.0.0,>=3.8.3->langchain_community) (1.18.0)\n",
            "Requirement already satisfied: async-timeout<6.0,>=4.0 in /opt/anaconda3/envs/dev/lib/python3.9/site-packages (from aiohttp<4.0.0,>=3.8.3->langchain_community) (4.0.3)\n",
            "Requirement already satisfied: exceptiongroup>=1.0.2 in /opt/anaconda3/envs/dev/lib/python3.9/site-packages (from anyio<5.0,>=3.0->gradio) (1.2.2)\n",
            "Requirement already satisfied: idna>=2.8 in /opt/anaconda3/envs/dev/lib/python3.9/site-packages (from anyio<5.0,>=3.0->gradio) (3.7)\n",
            "Requirement already satisfied: sniffio>=1.1 in /opt/anaconda3/envs/dev/lib/python3.9/site-packages (from anyio<5.0,>=3.0->gradio) (1.3.1)\n",
            "Requirement already satisfied: build>=1.0.3 in /opt/anaconda3/envs/dev/lib/python3.9/site-packages (from chromadb!=0.5.10,!=0.5.11,!=0.5.12,!=0.5.4,!=0.5.5,!=0.5.7,!=0.5.9,<0.7.0,>=0.4.0->langchain_chroma) (1.2.2.post1)\n",
            "Requirement already satisfied: chroma-hnswlib==0.7.6 in /opt/anaconda3/envs/dev/lib/python3.9/site-packages (from chromadb!=0.5.10,!=0.5.11,!=0.5.12,!=0.5.4,!=0.5.5,!=0.5.7,!=0.5.9,<0.7.0,>=0.4.0->langchain_chroma) (0.7.6)\n",
            "Requirement already satisfied: posthog>=2.4.0 in /opt/anaconda3/envs/dev/lib/python3.9/site-packages (from chromadb!=0.5.10,!=0.5.11,!=0.5.12,!=0.5.4,!=0.5.5,!=0.5.7,!=0.5.9,<0.7.0,>=0.4.0->langchain_chroma) (3.18.1)\n",
            "Requirement already satisfied: onnxruntime>=1.14.1 in /opt/anaconda3/envs/dev/lib/python3.9/site-packages (from chromadb!=0.5.10,!=0.5.11,!=0.5.12,!=0.5.4,!=0.5.5,!=0.5.7,!=0.5.9,<0.7.0,>=0.4.0->langchain_chroma) (1.19.2)\n",
            "Requirement already satisfied: opentelemetry-api>=1.2.0 in /opt/anaconda3/envs/dev/lib/python3.9/site-packages (from chromadb!=0.5.10,!=0.5.11,!=0.5.12,!=0.5.4,!=0.5.5,!=0.5.7,!=0.5.9,<0.7.0,>=0.4.0->langchain_chroma) (1.30.0)\n",
            "Requirement already satisfied: opentelemetry-exporter-otlp-proto-grpc>=1.2.0 in /opt/anaconda3/envs/dev/lib/python3.9/site-packages (from chromadb!=0.5.10,!=0.5.11,!=0.5.12,!=0.5.4,!=0.5.5,!=0.5.7,!=0.5.9,<0.7.0,>=0.4.0->langchain_chroma) (1.30.0)\n",
            "Requirement already satisfied: opentelemetry-instrumentation-fastapi>=0.41b0 in /opt/anaconda3/envs/dev/lib/python3.9/site-packages (from chromadb!=0.5.10,!=0.5.11,!=0.5.12,!=0.5.4,!=0.5.5,!=0.5.7,!=0.5.9,<0.7.0,>=0.4.0->langchain_chroma) (0.51b0)\n",
            "Requirement already satisfied: opentelemetry-sdk>=1.2.0 in /opt/anaconda3/envs/dev/lib/python3.9/site-packages (from chromadb!=0.5.10,!=0.5.11,!=0.5.12,!=0.5.4,!=0.5.5,!=0.5.7,!=0.5.9,<0.7.0,>=0.4.0->langchain_chroma) (1.30.0)\n",
            "Requirement already satisfied: tokenizers>=0.13.2 in /opt/anaconda3/envs/dev/lib/python3.9/site-packages (from chromadb!=0.5.10,!=0.5.11,!=0.5.12,!=0.5.4,!=0.5.5,!=0.5.7,!=0.5.9,<0.7.0,>=0.4.0->langchain_chroma) (0.20.1)\n",
            "Requirement already satisfied: pypika>=0.48.9 in /opt/anaconda3/envs/dev/lib/python3.9/site-packages (from chromadb!=0.5.10,!=0.5.11,!=0.5.12,!=0.5.4,!=0.5.5,!=0.5.7,!=0.5.9,<0.7.0,>=0.4.0->langchain_chroma) (0.48.9)\n",
            "Requirement already satisfied: tqdm>=4.65.0 in /opt/anaconda3/envs/dev/lib/python3.9/site-packages (from chromadb!=0.5.10,!=0.5.11,!=0.5.12,!=0.5.4,!=0.5.5,!=0.5.7,!=0.5.9,<0.7.0,>=0.4.0->langchain_chroma) (4.66.5)\n",
            "Requirement already satisfied: overrides>=7.3.1 in /opt/anaconda3/envs/dev/lib/python3.9/site-packages (from chromadb!=0.5.10,!=0.5.11,!=0.5.12,!=0.5.4,!=0.5.5,!=0.5.7,!=0.5.9,<0.7.0,>=0.4.0->langchain_chroma) (7.7.0)\n",
            "Requirement already satisfied: grpcio>=1.58.0 in /opt/anaconda3/envs/dev/lib/python3.9/site-packages (from chromadb!=0.5.10,!=0.5.11,!=0.5.12,!=0.5.4,!=0.5.5,!=0.5.7,!=0.5.9,<0.7.0,>=0.4.0->langchain_chroma) (1.71.0rc2)\n",
            "Requirement already satisfied: bcrypt>=4.0.1 in /opt/anaconda3/envs/dev/lib/python3.9/site-packages (from chromadb!=0.5.10,!=0.5.11,!=0.5.12,!=0.5.4,!=0.5.5,!=0.5.7,!=0.5.9,<0.7.0,>=0.4.0->langchain_chroma) (4.3.0)\n",
            "Requirement already satisfied: kubernetes>=28.1.0 in /opt/anaconda3/envs/dev/lib/python3.9/site-packages (from chromadb!=0.5.10,!=0.5.11,!=0.5.12,!=0.5.4,!=0.5.5,!=0.5.7,!=0.5.9,<0.7.0,>=0.4.0->langchain_chroma) (32.0.1)\n",
            "Requirement already satisfied: mmh3>=4.0.1 in /opt/anaconda3/envs/dev/lib/python3.9/site-packages (from chromadb!=0.5.10,!=0.5.11,!=0.5.12,!=0.5.4,!=0.5.5,!=0.5.7,!=0.5.9,<0.7.0,>=0.4.0->langchain_chroma) (5.1.0)\n",
            "Requirement already satisfied: rich>=10.11.0 in /opt/anaconda3/envs/dev/lib/python3.9/site-packages (from chromadb!=0.5.10,!=0.5.11,!=0.5.12,!=0.5.4,!=0.5.5,!=0.5.7,!=0.5.9,<0.7.0,>=0.4.0->langchain_chroma) (13.9.4)\n",
            "Requirement already satisfied: marshmallow<4.0.0,>=3.18.0 in /opt/anaconda3/envs/dev/lib/python3.9/site-packages (from dataclasses-json<0.7,>=0.5.7->langchain_community) (3.26.1)\n",
            "Requirement already satisfied: typing-inspect<1,>=0.4.0 in /opt/anaconda3/envs/dev/lib/python3.9/site-packages (from dataclasses-json<0.7,>=0.5.7->langchain_community) (0.9.0)\n",
            "Requirement already satisfied: starlette<0.46.0,>=0.40.0 in /opt/anaconda3/envs/dev/lib/python3.9/site-packages (from fastapi<1.0->gradio) (0.45.3)\n",
            "Requirement already satisfied: certifi in /opt/anaconda3/envs/dev/lib/python3.9/site-packages (from httpx>=0.24.1->gradio) (2025.1.31)\n",
            "Requirement already satisfied: httpcore==1.* in /opt/anaconda3/envs/dev/lib/python3.9/site-packages (from httpx>=0.24.1->gradio) (1.0.7)\n",
            "Requirement already satisfied: h11<0.15,>=0.13 in /opt/anaconda3/envs/dev/lib/python3.9/site-packages (from httpcore==1.*->httpx>=0.24.1->gradio) (0.14.0)\n",
            "Requirement already satisfied: filelock in /opt/anaconda3/envs/dev/lib/python3.9/site-packages (from huggingface-hub>=0.19.3->gradio) (3.13.1)\n",
            "Requirement already satisfied: zipp>=3.1.0 in /opt/anaconda3/envs/dev/lib/python3.9/site-packages (from importlib-resources<7.0,>=1.3->gradio) (3.21.0)\n",
            "Requirement already satisfied: jsonpatch<2.0,>=1.33 in /opt/anaconda3/envs/dev/lib/python3.9/site-packages (from langchain-core<1.0.0,>=0.3.37->langchain_community) (1.33)\n",
            "Requirement already satisfied: requests-toolbelt<2.0.0,>=1.0.0 in /opt/anaconda3/envs/dev/lib/python3.9/site-packages (from langsmith<0.4,>=0.1.125->langchain_community) (1.0.0)\n",
            "Requirement already satisfied: zstandard<0.24.0,>=0.23.0 in /opt/anaconda3/envs/dev/lib/python3.9/site-packages (from langsmith<0.4,>=0.1.125->langchain_community) (0.23.0)\n",
            "Requirement already satisfied: contourpy>=1.0.1 in /opt/anaconda3/envs/dev/lib/python3.9/site-packages (from matplotlib~=3.0->gradio) (1.2.0)\n",
            "Requirement already satisfied: cycler>=0.10 in /opt/anaconda3/envs/dev/lib/python3.9/site-packages (from matplotlib~=3.0->gradio) (0.11.0)\n",
            "Requirement already satisfied: fonttools>=4.22.0 in /opt/anaconda3/envs/dev/lib/python3.9/site-packages (from matplotlib~=3.0->gradio) (4.55.3)\n",
            "Requirement already satisfied: kiwisolver>=1.3.1 in /opt/anaconda3/envs/dev/lib/python3.9/site-packages (from matplotlib~=3.0->gradio) (1.4.4)\n",
            "Requirement already satisfied: pyparsing>=2.3.1 in /opt/anaconda3/envs/dev/lib/python3.9/site-packages (from matplotlib~=3.0->gradio) (3.2.0)\n",
            "Requirement already satisfied: python-dateutil>=2.7 in /opt/anaconda3/envs/dev/lib/python3.9/site-packages (from matplotlib~=3.0->gradio) (2.9.0.post0)\n",
            "Requirement already satisfied: distro<2,>=1.7.0 in /opt/anaconda3/envs/dev/lib/python3.9/site-packages (from openai<2.0.0,>=1.58.1->langchain_openai) (1.9.0)\n",
            "Requirement already satisfied: jiter<1,>=0.4.0 in /opt/anaconda3/envs/dev/lib/python3.9/site-packages (from openai<2.0.0,>=1.58.1->langchain_openai) (0.8.2)\n",
            "Requirement already satisfied: pytz>=2020.1 in /opt/anaconda3/envs/dev/lib/python3.9/site-packages (from pandas<3.0,>=1.0->gradio) (2024.1)\n",
            "Requirement already satisfied: tzdata>=2022.7 in /opt/anaconda3/envs/dev/lib/python3.9/site-packages (from pandas<3.0,>=1.0->gradio) (2023.3)\n",
            "Requirement already satisfied: annotated-types>=0.6.0 in /opt/anaconda3/envs/dev/lib/python3.9/site-packages (from pydantic>=2.0->gradio) (0.6.0)\n",
            "Requirement already satisfied: pydantic-core==2.27.1 in /opt/anaconda3/envs/dev/lib/python3.9/site-packages (from pydantic>=2.0->gradio) (2.27.1)\n",
            "Requirement already satisfied: charset-normalizer<4,>=2 in /opt/anaconda3/envs/dev/lib/python3.9/site-packages (from requests<3,>=2->langchain_community) (2.0.4)\n",
            "Requirement already satisfied: regex>=2022.1.18 in /opt/anaconda3/envs/dev/lib/python3.9/site-packages (from tiktoken<1,>=0.7->langchain_openai) (2024.11.6)\n",
            "Requirement already satisfied: click>=8.0.0 in /opt/anaconda3/envs/dev/lib/python3.9/site-packages (from typer<1.0,>=0.12->gradio) (8.1.7)\n",
            "Requirement already satisfied: shellingham>=1.3.0 in /opt/anaconda3/envs/dev/lib/python3.9/site-packages (from typer<1.0,>=0.12->gradio) (1.5.0)\n",
            "Requirement already satisfied: pyproject_hooks in /opt/anaconda3/envs/dev/lib/python3.9/site-packages (from build>=1.0.3->chromadb!=0.5.10,!=0.5.11,!=0.5.12,!=0.5.4,!=0.5.5,!=0.5.7,!=0.5.9,<0.7.0,>=0.4.0->langchain_chroma) (1.2.0)\n",
            "Requirement already satisfied: importlib-metadata>=4.6 in /opt/anaconda3/envs/dev/lib/python3.9/site-packages (from build>=1.0.3->chromadb!=0.5.10,!=0.5.11,!=0.5.12,!=0.5.4,!=0.5.5,!=0.5.7,!=0.5.9,<0.7.0,>=0.4.0->langchain_chroma) (8.5.0)\n",
            "Requirement already satisfied: tomli>=1.1.0 in /opt/anaconda3/envs/dev/lib/python3.9/site-packages (from build>=1.0.3->chromadb!=0.5.10,!=0.5.11,!=0.5.12,!=0.5.4,!=0.5.5,!=0.5.7,!=0.5.9,<0.7.0,>=0.4.0->langchain_chroma) (2.2.1)\n",
            "Requirement already satisfied: jsonpointer>=1.9 in /opt/anaconda3/envs/dev/lib/python3.9/site-packages (from jsonpatch<2.0,>=1.33->langchain-core<1.0.0,>=0.3.37->langchain_community) (3.0.0)\n",
            "Requirement already satisfied: six>=1.9.0 in /opt/anaconda3/envs/dev/lib/python3.9/site-packages (from kubernetes>=28.1.0->chromadb!=0.5.10,!=0.5.11,!=0.5.12,!=0.5.4,!=0.5.5,!=0.5.7,!=0.5.9,<0.7.0,>=0.4.0->langchain_chroma) (1.17.0)\n",
            "Requirement already satisfied: google-auth>=1.0.1 in /opt/anaconda3/envs/dev/lib/python3.9/site-packages (from kubernetes>=28.1.0->chromadb!=0.5.10,!=0.5.11,!=0.5.12,!=0.5.4,!=0.5.5,!=0.5.7,!=0.5.9,<0.7.0,>=0.4.0->langchain_chroma) (2.29.0)\n",
            "Requirement already satisfied: websocket-client!=0.40.0,!=0.41.*,!=0.42.*,>=0.32.0 in /opt/anaconda3/envs/dev/lib/python3.9/site-packages (from kubernetes>=28.1.0->chromadb!=0.5.10,!=0.5.11,!=0.5.12,!=0.5.4,!=0.5.5,!=0.5.7,!=0.5.9,<0.7.0,>=0.4.0->langchain_chroma) (1.8.0)\n",
            "Requirement already satisfied: requests-oauthlib in /opt/anaconda3/envs/dev/lib/python3.9/site-packages (from kubernetes>=28.1.0->chromadb!=0.5.10,!=0.5.11,!=0.5.12,!=0.5.4,!=0.5.5,!=0.5.7,!=0.5.9,<0.7.0,>=0.4.0->langchain_chroma) (2.0.0)\n",
            "Requirement already satisfied: oauthlib>=3.2.2 in /opt/anaconda3/envs/dev/lib/python3.9/site-packages (from kubernetes>=28.1.0->chromadb!=0.5.10,!=0.5.11,!=0.5.12,!=0.5.4,!=0.5.5,!=0.5.7,!=0.5.9,<0.7.0,>=0.4.0->langchain_chroma) (3.2.2)\n",
            "Requirement already satisfied: durationpy>=0.7 in /opt/anaconda3/envs/dev/lib/python3.9/site-packages (from kubernetes>=28.1.0->chromadb!=0.5.10,!=0.5.11,!=0.5.12,!=0.5.4,!=0.5.5,!=0.5.7,!=0.5.9,<0.7.0,>=0.4.0->langchain_chroma) (0.9)\n",
            "Requirement already satisfied: coloredlogs in /opt/anaconda3/envs/dev/lib/python3.9/site-packages (from onnxruntime>=1.14.1->chromadb!=0.5.10,!=0.5.11,!=0.5.12,!=0.5.4,!=0.5.5,!=0.5.7,!=0.5.9,<0.7.0,>=0.4.0->langchain_chroma) (15.0.1)\n",
            "Requirement already satisfied: flatbuffers in /opt/anaconda3/envs/dev/lib/python3.9/site-packages (from onnxruntime>=1.14.1->chromadb!=0.5.10,!=0.5.11,!=0.5.12,!=0.5.4,!=0.5.5,!=0.5.7,!=0.5.9,<0.7.0,>=0.4.0->langchain_chroma) (24.3.25)\n",
            "Requirement already satisfied: protobuf in /opt/anaconda3/envs/dev/lib/python3.9/site-packages (from onnxruntime>=1.14.1->chromadb!=0.5.10,!=0.5.11,!=0.5.12,!=0.5.4,!=0.5.5,!=0.5.7,!=0.5.9,<0.7.0,>=0.4.0->langchain_chroma) (5.29.3)\n",
            "Requirement already satisfied: sympy in /opt/anaconda3/envs/dev/lib/python3.9/site-packages (from onnxruntime>=1.14.1->chromadb!=0.5.10,!=0.5.11,!=0.5.12,!=0.5.4,!=0.5.5,!=0.5.7,!=0.5.9,<0.7.0,>=0.4.0->langchain_chroma) (1.13.3)\n",
            "Requirement already satisfied: deprecated>=1.2.6 in /opt/anaconda3/envs/dev/lib/python3.9/site-packages (from opentelemetry-api>=1.2.0->chromadb!=0.5.10,!=0.5.11,!=0.5.12,!=0.5.4,!=0.5.5,!=0.5.7,!=0.5.9,<0.7.0,>=0.4.0->langchain_chroma) (1.2.18)\n",
            "Requirement already satisfied: googleapis-common-protos~=1.52 in /opt/anaconda3/envs/dev/lib/python3.9/site-packages (from opentelemetry-exporter-otlp-proto-grpc>=1.2.0->chromadb!=0.5.10,!=0.5.11,!=0.5.12,!=0.5.4,!=0.5.5,!=0.5.7,!=0.5.9,<0.7.0,>=0.4.0->langchain_chroma) (1.68.0)\n",
            "Requirement already satisfied: opentelemetry-exporter-otlp-proto-common==1.30.0 in /opt/anaconda3/envs/dev/lib/python3.9/site-packages (from opentelemetry-exporter-otlp-proto-grpc>=1.2.0->chromadb!=0.5.10,!=0.5.11,!=0.5.12,!=0.5.4,!=0.5.5,!=0.5.7,!=0.5.9,<0.7.0,>=0.4.0->langchain_chroma) (1.30.0)\n",
            "Requirement already satisfied: opentelemetry-proto==1.30.0 in /opt/anaconda3/envs/dev/lib/python3.9/site-packages (from opentelemetry-exporter-otlp-proto-grpc>=1.2.0->chromadb!=0.5.10,!=0.5.11,!=0.5.12,!=0.5.4,!=0.5.5,!=0.5.7,!=0.5.9,<0.7.0,>=0.4.0->langchain_chroma) (1.30.0)\n",
            "Requirement already satisfied: opentelemetry-instrumentation-asgi==0.51b0 in /opt/anaconda3/envs/dev/lib/python3.9/site-packages (from opentelemetry-instrumentation-fastapi>=0.41b0->chromadb!=0.5.10,!=0.5.11,!=0.5.12,!=0.5.4,!=0.5.5,!=0.5.7,!=0.5.9,<0.7.0,>=0.4.0->langchain_chroma) (0.51b0)\n",
            "Requirement already satisfied: opentelemetry-instrumentation==0.51b0 in /opt/anaconda3/envs/dev/lib/python3.9/site-packages (from opentelemetry-instrumentation-fastapi>=0.41b0->chromadb!=0.5.10,!=0.5.11,!=0.5.12,!=0.5.4,!=0.5.5,!=0.5.7,!=0.5.9,<0.7.0,>=0.4.0->langchain_chroma) (0.51b0)\n",
            "Requirement already satisfied: opentelemetry-semantic-conventions==0.51b0 in /opt/anaconda3/envs/dev/lib/python3.9/site-packages (from opentelemetry-instrumentation-fastapi>=0.41b0->chromadb!=0.5.10,!=0.5.11,!=0.5.12,!=0.5.4,!=0.5.5,!=0.5.7,!=0.5.9,<0.7.0,>=0.4.0->langchain_chroma) (0.51b0)\n",
            "Requirement already satisfied: opentelemetry-util-http==0.51b0 in /opt/anaconda3/envs/dev/lib/python3.9/site-packages (from opentelemetry-instrumentation-fastapi>=0.41b0->chromadb!=0.5.10,!=0.5.11,!=0.5.12,!=0.5.4,!=0.5.5,!=0.5.7,!=0.5.9,<0.7.0,>=0.4.0->langchain_chroma) (0.51b0)\n",
            "Requirement already satisfied: wrapt<2.0.0,>=1.0.0 in /opt/anaconda3/envs/dev/lib/python3.9/site-packages (from opentelemetry-instrumentation==0.51b0->opentelemetry-instrumentation-fastapi>=0.41b0->chromadb!=0.5.10,!=0.5.11,!=0.5.12,!=0.5.4,!=0.5.5,!=0.5.7,!=0.5.9,<0.7.0,>=0.4.0->langchain_chroma) (1.17.0)\n",
            "Requirement already satisfied: asgiref~=3.0 in /opt/anaconda3/envs/dev/lib/python3.9/site-packages (from opentelemetry-instrumentation-asgi==0.51b0->opentelemetry-instrumentation-fastapi>=0.41b0->chromadb!=0.5.10,!=0.5.11,!=0.5.12,!=0.5.4,!=0.5.5,!=0.5.7,!=0.5.9,<0.7.0,>=0.4.0->langchain_chroma) (3.8.1)\n",
            "Requirement already satisfied: monotonic>=1.5 in /opt/anaconda3/envs/dev/lib/python3.9/site-packages (from posthog>=2.4.0->chromadb!=0.5.10,!=0.5.11,!=0.5.12,!=0.5.4,!=0.5.5,!=0.5.7,!=0.5.9,<0.7.0,>=0.4.0->langchain_chroma) (1.6)\n",
            "Requirement already satisfied: backoff>=1.10.0 in /opt/anaconda3/envs/dev/lib/python3.9/site-packages (from posthog>=2.4.0->chromadb!=0.5.10,!=0.5.11,!=0.5.12,!=0.5.4,!=0.5.5,!=0.5.7,!=0.5.9,<0.7.0,>=0.4.0->langchain_chroma) (2.2.1)\n",
            "Requirement already satisfied: markdown-it-py>=2.2.0 in /opt/anaconda3/envs/dev/lib/python3.9/site-packages (from rich>=10.11.0->chromadb!=0.5.10,!=0.5.11,!=0.5.12,!=0.5.4,!=0.5.5,!=0.5.7,!=0.5.9,<0.7.0,>=0.4.0->langchain_chroma) (2.2.0)\n",
            "Requirement already satisfied: pygments<3.0.0,>=2.13.0 in /opt/anaconda3/envs/dev/lib/python3.9/site-packages (from rich>=10.11.0->chromadb!=0.5.10,!=0.5.11,!=0.5.12,!=0.5.4,!=0.5.5,!=0.5.7,!=0.5.9,<0.7.0,>=0.4.0->langchain_chroma) (2.19.1)\n",
            "Requirement already satisfied: mypy-extensions>=0.3.0 in /opt/anaconda3/envs/dev/lib/python3.9/site-packages (from typing-inspect<1,>=0.4.0->dataclasses-json<0.7,>=0.5.7->langchain_community) (1.0.0)\n",
            "Requirement already satisfied: httptools>=0.6.3 in /opt/anaconda3/envs/dev/lib/python3.9/site-packages (from uvicorn[standard]>=0.18.3->chromadb!=0.5.10,!=0.5.11,!=0.5.12,!=0.5.4,!=0.5.5,!=0.5.7,!=0.5.9,<0.7.0,>=0.4.0->langchain_chroma) (0.6.4)\n",
            "Requirement already satisfied: uvloop!=0.15.0,!=0.15.1,>=0.14.0 in /opt/anaconda3/envs/dev/lib/python3.9/site-packages (from uvicorn[standard]>=0.18.3->chromadb!=0.5.10,!=0.5.11,!=0.5.12,!=0.5.4,!=0.5.5,!=0.5.7,!=0.5.9,<0.7.0,>=0.4.0->langchain_chroma) (0.21.0)\n",
            "Requirement already satisfied: watchfiles>=0.13 in /opt/anaconda3/envs/dev/lib/python3.9/site-packages (from uvicorn[standard]>=0.18.3->chromadb!=0.5.10,!=0.5.11,!=0.5.12,!=0.5.4,!=0.5.5,!=0.5.7,!=0.5.9,<0.7.0,>=0.4.0->langchain_chroma) (1.0.4)\n",
            "Requirement already satisfied: cachetools<6.0,>=2.0.0 in /opt/anaconda3/envs/dev/lib/python3.9/site-packages (from google-auth>=1.0.1->kubernetes>=28.1.0->chromadb!=0.5.10,!=0.5.11,!=0.5.12,!=0.5.4,!=0.5.5,!=0.5.7,!=0.5.9,<0.7.0,>=0.4.0->langchain_chroma) (5.3.3)\n",
            "Requirement already satisfied: pyasn1-modules>=0.2.1 in /opt/anaconda3/envs/dev/lib/python3.9/site-packages (from google-auth>=1.0.1->kubernetes>=28.1.0->chromadb!=0.5.10,!=0.5.11,!=0.5.12,!=0.5.4,!=0.5.5,!=0.5.7,!=0.5.9,<0.7.0,>=0.4.0->langchain_chroma) (0.2.8)\n",
            "Requirement already satisfied: rsa<5,>=3.1.4 in /opt/anaconda3/envs/dev/lib/python3.9/site-packages (from google-auth>=1.0.1->kubernetes>=28.1.0->chromadb!=0.5.10,!=0.5.11,!=0.5.12,!=0.5.4,!=0.5.5,!=0.5.7,!=0.5.9,<0.7.0,>=0.4.0->langchain_chroma) (4.7.2)\n",
            "Requirement already satisfied: mdurl~=0.1 in /opt/anaconda3/envs/dev/lib/python3.9/site-packages (from markdown-it-py>=2.2.0->rich>=10.11.0->chromadb!=0.5.10,!=0.5.11,!=0.5.12,!=0.5.4,!=0.5.5,!=0.5.7,!=0.5.9,<0.7.0,>=0.4.0->langchain_chroma) (0.1.0)\n",
            "Requirement already satisfied: humanfriendly>=9.1 in /opt/anaconda3/envs/dev/lib/python3.9/site-packages (from coloredlogs->onnxruntime>=1.14.1->chromadb!=0.5.10,!=0.5.11,!=0.5.12,!=0.5.4,!=0.5.5,!=0.5.7,!=0.5.9,<0.7.0,>=0.4.0->langchain_chroma) (10.0)\n",
            "Requirement already satisfied: mpmath<1.4,>=1.1.0 in /opt/anaconda3/envs/dev/lib/python3.9/site-packages (from sympy->onnxruntime>=1.14.1->chromadb!=0.5.10,!=0.5.11,!=0.5.12,!=0.5.4,!=0.5.5,!=0.5.7,!=0.5.9,<0.7.0,>=0.4.0->langchain_chroma) (1.3.0)\n",
            "Requirement already satisfied: pyasn1<0.5.0,>=0.4.6 in /opt/anaconda3/envs/dev/lib/python3.9/site-packages (from pyasn1-modules>=0.2.1->google-auth>=1.0.1->kubernetes>=28.1.0->chromadb!=0.5.10,!=0.5.11,!=0.5.12,!=0.5.4,!=0.5.5,!=0.5.7,!=0.5.9,<0.7.0,>=0.4.0->langchain_chroma) (0.4.8)\n",
            "Note: you may need to restart the kernel to use updated packages.\n"
          ]
        },
        {
          "name": "stderr",
          "output_type": "stream",
          "text": [
            "huggingface/tokenizers: The current process just got forked, after parallelism has already been used. Disabling parallelism to avoid deadlocks...\n",
            "To disable this warning, you can either:\n",
            "\t- Avoid using `tokenizers` before the fork if possible\n",
            "\t- Explicitly set the environment variable TOKENIZERS_PARALLELISM=(true | false)\n"
          ]
        },
        {
          "name": "stdout",
          "output_type": "stream",
          "text": [
            "Requirement already satisfied: langchain_cohere in /opt/anaconda3/envs/dev/lib/python3.9/site-packages (0.4.2)\n",
            "Requirement already satisfied: cohere<6.0,>=5.12.0 in /opt/anaconda3/envs/dev/lib/python3.9/site-packages (from langchain_cohere) (5.14.0)\n",
            "Requirement already satisfied: langchain-community<0.4.0,>=0.3.0 in /opt/anaconda3/envs/dev/lib/python3.9/site-packages (from langchain_cohere) (0.3.18)\n",
            "Requirement already satisfied: langchain-core<0.4.0,>=0.3.27 in /opt/anaconda3/envs/dev/lib/python3.9/site-packages (from langchain_cohere) (0.3.39)\n",
            "Requirement already satisfied: pydantic<3,>=2 in /opt/anaconda3/envs/dev/lib/python3.9/site-packages (from langchain_cohere) (2.10.3)\n",
            "Requirement already satisfied: types-pyyaml<7.0.0.0,>=6.0.12.20240917 in /opt/anaconda3/envs/dev/lib/python3.9/site-packages (from langchain_cohere) (6.0.12.20241230)\n",
            "Requirement already satisfied: fastavro<2.0.0,>=1.9.4 in /opt/anaconda3/envs/dev/lib/python3.9/site-packages (from cohere<6.0,>=5.12.0->langchain_cohere) (1.10.0)\n",
            "Requirement already satisfied: httpx>=0.21.2 in /opt/anaconda3/envs/dev/lib/python3.9/site-packages (from cohere<6.0,>=5.12.0->langchain_cohere) (0.28.1)\n",
            "Requirement already satisfied: httpx-sse==0.4.0 in /opt/anaconda3/envs/dev/lib/python3.9/site-packages (from cohere<6.0,>=5.12.0->langchain_cohere) (0.4.0)\n",
            "Requirement already satisfied: pydantic-core<3.0.0,>=2.18.2 in /opt/anaconda3/envs/dev/lib/python3.9/site-packages (from cohere<6.0,>=5.12.0->langchain_cohere) (2.27.1)\n",
            "Requirement already satisfied: requests<3.0.0,>=2.0.0 in /opt/anaconda3/envs/dev/lib/python3.9/site-packages (from cohere<6.0,>=5.12.0->langchain_cohere) (2.32.3)\n",
            "Requirement already satisfied: tokenizers<1,>=0.15 in /opt/anaconda3/envs/dev/lib/python3.9/site-packages (from cohere<6.0,>=5.12.0->langchain_cohere) (0.20.1)\n",
            "Requirement already satisfied: types-requests<3.0.0,>=2.0.0 in /opt/anaconda3/envs/dev/lib/python3.9/site-packages (from cohere<6.0,>=5.12.0->langchain_cohere) (2.32.0.20250301)\n",
            "Requirement already satisfied: typing_extensions>=4.0.0 in /opt/anaconda3/envs/dev/lib/python3.9/site-packages (from cohere<6.0,>=5.12.0->langchain_cohere) (4.12.2)\n",
            "Requirement already satisfied: langchain<1.0.0,>=0.3.19 in /opt/anaconda3/envs/dev/lib/python3.9/site-packages (from langchain-community<0.4.0,>=0.3.0->langchain_cohere) (0.3.19)\n",
            "Requirement already satisfied: SQLAlchemy<3,>=1.4 in /opt/anaconda3/envs/dev/lib/python3.9/site-packages (from langchain-community<0.4.0,>=0.3.0->langchain_cohere) (2.0.38)\n",
            "Requirement already satisfied: PyYAML>=5.3 in /opt/anaconda3/envs/dev/lib/python3.9/site-packages (from langchain-community<0.4.0,>=0.3.0->langchain_cohere) (6.0.2)\n",
            "Requirement already satisfied: aiohttp<4.0.0,>=3.8.3 in /opt/anaconda3/envs/dev/lib/python3.9/site-packages (from langchain-community<0.4.0,>=0.3.0->langchain_cohere) (3.11.10)\n",
            "Requirement already satisfied: tenacity!=8.4.0,<10,>=8.1.0 in /opt/anaconda3/envs/dev/lib/python3.9/site-packages (from langchain-community<0.4.0,>=0.3.0->langchain_cohere) (9.0.0)\n",
            "Requirement already satisfied: dataclasses-json<0.7,>=0.5.7 in /opt/anaconda3/envs/dev/lib/python3.9/site-packages (from langchain-community<0.4.0,>=0.3.0->langchain_cohere) (0.6.7)\n",
            "Requirement already satisfied: pydantic-settings<3.0.0,>=2.4.0 in /opt/anaconda3/envs/dev/lib/python3.9/site-packages (from langchain-community<0.4.0,>=0.3.0->langchain_cohere) (2.8.0)\n",
            "Requirement already satisfied: langsmith<0.4,>=0.1.125 in /opt/anaconda3/envs/dev/lib/python3.9/site-packages (from langchain-community<0.4.0,>=0.3.0->langchain_cohere) (0.3.10)\n",
            "Requirement already satisfied: numpy<2,>=1.26.4 in /opt/anaconda3/envs/dev/lib/python3.9/site-packages (from langchain-community<0.4.0,>=0.3.0->langchain_cohere) (1.26.4)\n",
            "Requirement already satisfied: jsonpatch<2.0,>=1.33 in /opt/anaconda3/envs/dev/lib/python3.9/site-packages (from langchain-core<0.4.0,>=0.3.27->langchain_cohere) (1.33)\n",
            "Requirement already satisfied: packaging<25,>=23.2 in /opt/anaconda3/envs/dev/lib/python3.9/site-packages (from langchain-core<0.4.0,>=0.3.27->langchain_cohere) (24.2)\n",
            "Requirement already satisfied: annotated-types>=0.6.0 in /opt/anaconda3/envs/dev/lib/python3.9/site-packages (from pydantic<3,>=2->langchain_cohere) (0.6.0)\n",
            "Requirement already satisfied: aiohappyeyeballs>=2.3.0 in /opt/anaconda3/envs/dev/lib/python3.9/site-packages (from aiohttp<4.0.0,>=3.8.3->langchain-community<0.4.0,>=0.3.0->langchain_cohere) (2.4.4)\n",
            "Requirement already satisfied: aiosignal>=1.1.2 in /opt/anaconda3/envs/dev/lib/python3.9/site-packages (from aiohttp<4.0.0,>=3.8.3->langchain-community<0.4.0,>=0.3.0->langchain_cohere) (1.2.0)\n",
            "Requirement already satisfied: attrs>=17.3.0 in /opt/anaconda3/envs/dev/lib/python3.9/site-packages (from aiohttp<4.0.0,>=3.8.3->langchain-community<0.4.0,>=0.3.0->langchain_cohere) (24.3.0)\n",
            "Requirement already satisfied: frozenlist>=1.1.1 in /opt/anaconda3/envs/dev/lib/python3.9/site-packages (from aiohttp<4.0.0,>=3.8.3->langchain-community<0.4.0,>=0.3.0->langchain_cohere) (1.5.0)\n",
            "Requirement already satisfied: multidict<7.0,>=4.5 in /opt/anaconda3/envs/dev/lib/python3.9/site-packages (from aiohttp<4.0.0,>=3.8.3->langchain-community<0.4.0,>=0.3.0->langchain_cohere) (6.1.0)\n",
            "Requirement already satisfied: propcache>=0.2.0 in /opt/anaconda3/envs/dev/lib/python3.9/site-packages (from aiohttp<4.0.0,>=3.8.3->langchain-community<0.4.0,>=0.3.0->langchain_cohere) (0.2.0)\n",
            "Requirement already satisfied: yarl<2.0,>=1.17.0 in /opt/anaconda3/envs/dev/lib/python3.9/site-packages (from aiohttp<4.0.0,>=3.8.3->langchain-community<0.4.0,>=0.3.0->langchain_cohere) (1.18.0)\n",
            "Requirement already satisfied: async-timeout<6.0,>=4.0 in /opt/anaconda3/envs/dev/lib/python3.9/site-packages (from aiohttp<4.0.0,>=3.8.3->langchain-community<0.4.0,>=0.3.0->langchain_cohere) (4.0.3)\n",
            "Requirement already satisfied: marshmallow<4.0.0,>=3.18.0 in /opt/anaconda3/envs/dev/lib/python3.9/site-packages (from dataclasses-json<0.7,>=0.5.7->langchain-community<0.4.0,>=0.3.0->langchain_cohere) (3.26.1)\n",
            "Requirement already satisfied: typing-inspect<1,>=0.4.0 in /opt/anaconda3/envs/dev/lib/python3.9/site-packages (from dataclasses-json<0.7,>=0.5.7->langchain-community<0.4.0,>=0.3.0->langchain_cohere) (0.9.0)\n",
            "Requirement already satisfied: anyio in /opt/anaconda3/envs/dev/lib/python3.9/site-packages (from httpx>=0.21.2->cohere<6.0,>=5.12.0->langchain_cohere) (4.8.0)\n",
            "Requirement already satisfied: certifi in /opt/anaconda3/envs/dev/lib/python3.9/site-packages (from httpx>=0.21.2->cohere<6.0,>=5.12.0->langchain_cohere) (2025.1.31)\n",
            "Requirement already satisfied: httpcore==1.* in /opt/anaconda3/envs/dev/lib/python3.9/site-packages (from httpx>=0.21.2->cohere<6.0,>=5.12.0->langchain_cohere) (1.0.7)\n",
            "Requirement already satisfied: idna in /opt/anaconda3/envs/dev/lib/python3.9/site-packages (from httpx>=0.21.2->cohere<6.0,>=5.12.0->langchain_cohere) (3.7)\n",
            "Requirement already satisfied: h11<0.15,>=0.13 in /opt/anaconda3/envs/dev/lib/python3.9/site-packages (from httpcore==1.*->httpx>=0.21.2->cohere<6.0,>=5.12.0->langchain_cohere) (0.14.0)\n",
            "Requirement already satisfied: jsonpointer>=1.9 in /opt/anaconda3/envs/dev/lib/python3.9/site-packages (from jsonpatch<2.0,>=1.33->langchain-core<0.4.0,>=0.3.27->langchain_cohere) (3.0.0)\n",
            "Requirement already satisfied: langchain-text-splitters<1.0.0,>=0.3.6 in /opt/anaconda3/envs/dev/lib/python3.9/site-packages (from langchain<1.0.0,>=0.3.19->langchain-community<0.4.0,>=0.3.0->langchain_cohere) (0.3.6)\n",
            "Requirement already satisfied: orjson<4.0.0,>=3.9.14 in /opt/anaconda3/envs/dev/lib/python3.9/site-packages (from langsmith<0.4,>=0.1.125->langchain-community<0.4.0,>=0.3.0->langchain_cohere) (3.10.15)\n",
            "Requirement already satisfied: requests-toolbelt<2.0.0,>=1.0.0 in /opt/anaconda3/envs/dev/lib/python3.9/site-packages (from langsmith<0.4,>=0.1.125->langchain-community<0.4.0,>=0.3.0->langchain_cohere) (1.0.0)\n",
            "Requirement already satisfied: zstandard<0.24.0,>=0.23.0 in /opt/anaconda3/envs/dev/lib/python3.9/site-packages (from langsmith<0.4,>=0.1.125->langchain-community<0.4.0,>=0.3.0->langchain_cohere) (0.23.0)\n",
            "Requirement already satisfied: python-dotenv>=0.21.0 in /opt/anaconda3/envs/dev/lib/python3.9/site-packages (from pydantic-settings<3.0.0,>=2.4.0->langchain-community<0.4.0,>=0.3.0->langchain_cohere) (0.21.0)\n",
            "Requirement already satisfied: charset-normalizer<4,>=2 in /opt/anaconda3/envs/dev/lib/python3.9/site-packages (from requests<3.0.0,>=2.0.0->cohere<6.0,>=5.12.0->langchain_cohere) (2.0.4)\n",
            "Requirement already satisfied: urllib3<3,>=1.21.1 in /opt/anaconda3/envs/dev/lib/python3.9/site-packages (from requests<3.0.0,>=2.0.0->cohere<6.0,>=5.12.0->langchain_cohere) (2.3.0)\n",
            "Requirement already satisfied: huggingface-hub<1.0,>=0.16.4 in /opt/anaconda3/envs/dev/lib/python3.9/site-packages (from tokenizers<1,>=0.15->cohere<6.0,>=5.12.0->langchain_cohere) (0.28.0)\n",
            "Requirement already satisfied: filelock in /opt/anaconda3/envs/dev/lib/python3.9/site-packages (from huggingface-hub<1.0,>=0.16.4->tokenizers<1,>=0.15->cohere<6.0,>=5.12.0->langchain_cohere) (3.13.1)\n",
            "Requirement already satisfied: fsspec>=2023.5.0 in /opt/anaconda3/envs/dev/lib/python3.9/site-packages (from huggingface-hub<1.0,>=0.16.4->tokenizers<1,>=0.15->cohere<6.0,>=5.12.0->langchain_cohere) (2024.12.0)\n",
            "Requirement already satisfied: tqdm>=4.42.1 in /opt/anaconda3/envs/dev/lib/python3.9/site-packages (from huggingface-hub<1.0,>=0.16.4->tokenizers<1,>=0.15->cohere<6.0,>=5.12.0->langchain_cohere) (4.66.5)\n",
            "Requirement already satisfied: mypy-extensions>=0.3.0 in /opt/anaconda3/envs/dev/lib/python3.9/site-packages (from typing-inspect<1,>=0.4.0->dataclasses-json<0.7,>=0.5.7->langchain-community<0.4.0,>=0.3.0->langchain_cohere) (1.0.0)\n",
            "Requirement already satisfied: exceptiongroup>=1.0.2 in /opt/anaconda3/envs/dev/lib/python3.9/site-packages (from anyio->httpx>=0.21.2->cohere<6.0,>=5.12.0->langchain_cohere) (1.2.2)\n",
            "Requirement already satisfied: sniffio>=1.1 in /opt/anaconda3/envs/dev/lib/python3.9/site-packages (from anyio->httpx>=0.21.2->cohere<6.0,>=5.12.0->langchain_cohere) (1.3.1)\n",
            "Note: you may need to restart the kernel to use updated packages.\n"
          ]
        }
      ],
      "source": [
        "%pip install langchain_community langchain_text_splitters langchain_openai langchain_chroma gradio python-dotenv\n",
        "%pip install langchain_cohere"
      ]
    },
    {
      "cell_type": "code",
      "execution_count": null,
      "metadata": {
        "colab": {
          "base_uri": "https://localhost:8080/"
        },
        "id": "dJE4OzG01XNB",
        "outputId": "4d4b2b54-db9f-472d-8ce6-5c739635ab43"
      },
      "outputs": [],
      "source": [
        "# from google.colab import drive\n",
        "\n",
        "# # Mount Google Drive\n",
        "# drive.mount('/content/drive')\n",
        "\n",
        "# # Define the Google Drive path where your documents are stored\n",
        "# google_drive_path = '/content/drive/MyDrive/local_rag/data'"
      ]
    },
    {
      "cell_type": "code",
      "execution_count": 21,
      "metadata": {},
      "outputs": [
        {
          "data": {
            "text/plain": [
              "True"
            ]
          },
          "execution_count": 21,
          "metadata": {},
          "output_type": "execute_result"
        }
      ],
      "source": [
        "DATA_PATH = r\"data\"\n",
        "CHROMA_PATH = r\"chroma_db\"\n",
        "import os\n",
        "\n",
        "# import the .env file\n",
        "from dotenv import load_dotenv\n",
        "load_dotenv()\n",
        "# print(os.environ.get(\"COHERE_API_KEY\")) "
      ]
    },
    {
      "cell_type": "code",
      "execution_count": 27,
      "metadata": {
        "id": "lX1fyZRVDM1d"
      },
      "outputs": [],
      "source": [
        "from langchain_chroma import Chroma\n",
        "import gradio as gr\n",
        "from langchain.embeddings import SentenceTransformerEmbeddings\n",
        "\n",
        "\n",
        "\n",
        "# Load the embedding model\n",
        "embeddings_model = SentenceTransformerEmbeddings(model_name=\"all-mpnet-base-v2\")\n",
        "\n",
        "# Use the model with LangChain as before\n",
        "vector_store = Chroma(\n",
        "    collection_name=\"example_collection\",\n",
        "    embedding_function=embeddings_model,\n",
        "    persist_directory=CHROMA_PATH,\n",
        ")\n",
        "\n"
      ]
    },
    {
      "cell_type": "code",
      "execution_count": 23,
      "metadata": {
        "colab": {
          "base_uri": "https://localhost:8080/"
        },
        "id": "jCcxOMtIFylR",
        "outputId": "79da4ec7-53cd-46bf-af4d-1ebd2b5115eb"
      },
      "outputs": [
        {
          "name": "stdout",
          "output_type": "stream",
          "text": [
            "[Document(id='f1d888dd-e9a0-4199-942a-44c7708bb68b', metadata={'author': '', 'creationdate': '2024-04-10T21:11:43+00:00', 'creator': 'LaTeX with hyperref', 'keywords': '', 'moddate': '2024-04-10T21:11:43+00:00', 'page': 2, 'page_label': '3', 'producer': 'pdfTeX-1.40.25', 'ptex.fullbanner': 'This is pdfTeX, Version 3.141592653-2.6-1.40.25 (TeX Live 2023) kpathsea version 6.3.5', 'source': 'data/AttentionIsAllyouNeed.pdf', 'subject': '', 'title': '', 'total_pages': 15, 'trapped': '/False'}, page_content='3.2 Attention\\nAn attention function can be described as mapping a query and a set of key-value pairs to an output,\\nwhere the query, keys, values, and output are all vectors. The output is computed as a weighted sum\\n3'), Document(id='e385e345-69fe-470b-b471-ee889bb3cf45', metadata={'author': '', 'creationdate': '2024-04-10T21:11:43+00:00', 'creator': 'LaTeX with hyperref', 'keywords': '', 'moddate': '2024-04-10T21:11:43+00:00', 'page': 6, 'page_label': '7', 'producer': 'pdfTeX-1.40.25', 'ptex.fullbanner': 'This is pdfTeX, Version 3.141592653-2.6-1.40.25 (TeX Live 2023) kpathsea version 6.3.5', 'source': 'data/AttentionIsAllyouNeed.pdf', 'subject': '', 'title': '', 'total_pages': 15, 'trapped': '/False'}, page_content='the approach we take in our model.\\nAs side benefit, self-attention could yield more interpretable models. We inspect attention distributions\\nfrom our models and present and discuss examples in the appendix. Not only do individual attention'), Document(id='4ce8b820-ec2a-4afb-ad1a-fbb3c20cd890', metadata={'author': '', 'creationdate': '2024-04-10T21:11:43+00:00', 'creator': 'LaTeX with hyperref', 'keywords': '', 'moddate': '2024-04-10T21:11:43+00:00', 'page': 9, 'page_label': '10', 'producer': 'pdfTeX-1.40.25', 'ptex.fullbanner': 'This is pdfTeX, Version 3.141592653-2.6-1.40.25 (TeX Live 2023) kpathsea version 6.3.5', 'source': 'data/AttentionIsAllyouNeed.pdf', 'subject': '', 'title': '', 'total_pages': 15, 'trapped': '/False'}, page_content='We are excited about the future of attention-based models and plan to apply them to other tasks. We\\nplan to extend the Transformer to problems involving input and output modalities other than text and'), Document(id='47f5f3d9-e2f0-4939-be8c-d3d50817b4d6', metadata={'author': '', 'creationdate': '2024-04-10T21:11:43+00:00', 'creator': 'LaTeX with hyperref', 'keywords': '', 'moddate': '2024-04-10T21:11:43+00:00', 'page': 13, 'page_label': '14', 'producer': 'pdfTeX-1.40.25', 'ptex.fullbanner': 'This is pdfTeX, Version 3.141592653-2.6-1.40.25 (TeX Live 2023) kpathsea version 6.3.5', 'source': 'data/AttentionIsAllyouNeed.pdf', 'subject': '', 'title': '', 'total_pages': 15, 'trapped': '/False'}, page_content='Full attentions for head 5. Bottom: Isolated attentions from just the word ‘its’ for attention heads 5\\nand 6. Note that the attentions are very sharp for this word.\\n14'), Document(id='de0e989d-9862-411e-ba26-060fb9d2bbc3', metadata={'author': '', 'creationdate': '2024-04-10T21:11:43+00:00', 'creator': 'LaTeX with hyperref', 'keywords': '', 'moddate': '2024-04-10T21:11:43+00:00', 'page': 1, 'page_label': '2', 'producer': 'pdfTeX-1.40.25', 'ptex.fullbanner': 'This is pdfTeX, Version 3.141592653-2.6-1.40.25 (TeX Live 2023) kpathsea version 6.3.5', 'source': 'data/AttentionIsAllyouNeed.pdf', 'subject': '', 'title': '', 'total_pages': 15, 'trapped': '/False'}, page_content='described in section 3.2.\\nSelf-attention, sometimes called intra-attention is an attention mechanism relating different positions\\nof a single sequence in order to compute a representation of the sequence. Self-attention has been')]\n",
            "[Document(id='ec1a823b-c356-42c0-b57f-2f210e8d894c', metadata={'author': 'Marshall B. Rosenberg', 'creationdate': '2019-06-19T12:41:21+00:00', 'creator': 'calibre 3.42.0 [https://calibre-ebook.com]', 'page': 21, 'page_label': '22', 'producer': 'calibre 3.42.0 [https://calibre-ebook.com]', 'source': 'data/Nonviolent Communication_ A Language of Life_ Life-Changing Tools for Healthy Relationships ( PDFDrive ).pdf', 'title': 'Nonviolent Communication: A Language of Life: Life-Changing Tools for Healthy Relationships - PDFDrive.com', 'total_pages': 246}, page_content='communication\\tconsists\\tof\\treceiving\\tthe\\tsame\\tfour\\tpieces\\tof\\tinformation\\nfrom\\t others.\\t We\\t connect\\t with\\t them\\t by\\t first\\t sensing\\t what\\t they\\t are\\nobserving,\\tfeeling,\\tand\\tneeding;\\tthen\\twe\\tdiscover\\twhat\\twould\\tenrich\\ntheir\\tlives\\tby\\treceiving\\tthe\\tfourth\\tpiece—their\\trequest.'), Document(id='3eed1d8b-1802-46c0-a5f3-6e239a455e8d', metadata={'author': 'Marshall B. Rosenberg', 'creationdate': '2019-06-19T12:41:21+00:00', 'creator': 'calibre 3.42.0 [https://calibre-ebook.com]', 'page': 3, 'page_label': '4', 'producer': 'calibre 3.42.0 [https://calibre-ebook.com]', 'source': 'data/Nonviolent Communication_ A Language of Life_ Life-Changing Tools for Healthy Relationships ( PDFDrive ).pdf', 'title': 'Nonviolent Communication: A Language of Life: Life-Changing Tools for Healthy Relationships - PDFDrive.com', 'total_pages': 246}, page_content='“As\\ta\\tprofessional\\tin\\tthe\\tfield,\\tI\\tcan\\tsay\\tthat\\tthis\\tbook\\tpractices\\twhat\\tit\\tpreaches,\\tand\\tI\\nfound\\tthe\\tstep-by-step\\tapproach,\\texercises,\\tand\\texamples\\tto\\tbe\\tclear\\tand\\teasy\\tto\\npractice.”\\n—A\\treader\\tin\\tMaryland\\n“I\\thave\\tnever\\tread\\ta\\tclearer,\\tmore\\tstraightforward,\\tinsightful\\tbook\\ton\\tcommunication.'), Document(id='b1387dc2-4a43-456c-b4df-b63ede7c1586', metadata={'author': 'Marshall B. Rosenberg', 'creationdate': '2019-06-19T12:41:21+00:00', 'creator': 'calibre 3.42.0 [https://calibre-ebook.com]', 'page': 3, 'page_label': '4', 'producer': 'calibre 3.42.0 [https://calibre-ebook.com]', 'source': 'data/Nonviolent Communication_ A Language of Life_ Life-Changing Tools for Healthy Relationships ( PDFDrive ).pdf', 'title': 'Nonviolent Communication: A Language of Life: Life-Changing Tools for Healthy Relationships - PDFDrive.com', 'total_pages': 246}, page_content='“I\\thave\\tnever\\tread\\ta\\tclearer,\\tmore\\tstraightforward,\\tinsightful\\tbook\\ton\\tcommunication.\\nAmazingly\\teasy\\tto\\tread,\\tgreat\\texamples,\\tand\\tchallenging\\tto\\tput\\tinto\\tpractice—this\\tbook\\nis\\ta\\ttrue\\tgift\\tto\\tall\\tof\\tus.”\\n—A\\treader\\tin\\tWashington\\nPERSONAL\\tGROWTH:'), Document(id='0daeaf50-f525-44da-a278-199aceabd9a4', metadata={'author': 'Marshall B. Rosenberg', 'creationdate': '2019-06-19T12:41:21+00:00', 'creator': 'calibre 3.42.0 [https://calibre-ebook.com]', 'page': 230, 'page_label': '231', 'producer': 'calibre 3.42.0 [https://calibre-ebook.com]', 'source': 'data/Nonviolent Communication_ A Language of Life_ Life-Changing Tools for Healthy Relationships ( PDFDrive ).pdf', 'title': 'Nonviolent Communication: A Language of Life: Life-Changing Tools for Healthy Relationships - PDFDrive.com', 'total_pages': 246}, page_content='Communication\\t(NVC)\\tis\\tchanging\\tlives\\tevery\\tday.\\tNVC\\tprovides\\tan\\teasy-to-grasp,\\teffective\\nmethod\\tto\\tget\\tto\\tthe\\troot\\tof\\tviolence\\tand\\tpain\\tpeacefully.\\tBy\\texamining\\tthe\\tunmet\\tneeds\\tbehind\\nwhat\\twe\\tdo\\tand\\tsay,\\tNVC\\thelps\\treduce\\thostility,\\theal\\tpain,\\tand\\tstrengthen\\tprofessional\\tand'), Document(id='6024c2ae-cb11-4ef2-9e27-58039092ea5f', metadata={'author': 'Marshall B. Rosenberg', 'creationdate': '2019-06-19T12:41:21+00:00', 'creator': 'calibre 3.42.0 [https://calibre-ebook.com]', 'page': 14, 'page_label': '15', 'producer': 'calibre 3.42.0 [https://calibre-ebook.com]', 'source': 'data/Nonviolent Communication_ A Language of Life_ Life-Changing Tools for Healthy Relationships ( PDFDrive ).pdf', 'title': 'Nonviolent Communication: A Language of Life: Life-Changing Tools for Healthy Relationships - PDFDrive.com', 'total_pages': 246}, page_content='relationship.\\t The\\t results\\t of\\t this\\t research\\t played\\t a\\t key\\t role\\t in\\t the\\nevolution\\tof\\tthe\\tprocess\\tof\\tcommunication\\tthat\\tI\\twill\\tbe\\tdescribing\\tin\\nthis\\tbook.\\nI\\twill\\tbe\\tforever\\tgrateful\\tthat\\tProfessor\\tMichael\\tHakeem\\thelped\\tme\\tto')]\n"
          ]
        }
      ],
      "source": [
        "num_results = 5\n",
        "\n",
        "retriever = vector_store.as_retriever(search_kwargs={'k': num_results})\n",
        "\n",
        "docs = retriever.invoke(\"What is attention\")\n",
        "print(docs)\n",
        "\n",
        "docs = retriever.invoke(\"What is communication\")\n",
        "print(docs)"
      ]
    },
    {
      "cell_type": "code",
      "execution_count": 24,
      "metadata": {
        "colab": {
          "base_uri": "https://localhost:8080/"
        },
        "id": "QOw2D_uRDdW4",
        "outputId": "4e556c35-8e26-4ee7-a33a-5106337c48c9"
      },
      "outputs": [
        {
          "name": "stdout",
          "output_type": "stream",
          "text": [
            "[Document(id='f1d888dd-e9a0-4199-942a-44c7708bb68b', metadata={'author': '', 'creationdate': '2024-04-10T21:11:43+00:00', 'creator': 'LaTeX with hyperref', 'keywords': '', 'moddate': '2024-04-10T21:11:43+00:00', 'page': 2, 'page_label': '3', 'producer': 'pdfTeX-1.40.25', 'ptex.fullbanner': 'This is pdfTeX, Version 3.141592653-2.6-1.40.25 (TeX Live 2023) kpathsea version 6.3.5', 'source': 'data/AttentionIsAllyouNeed.pdf', 'subject': '', 'title': '', 'total_pages': 15, 'trapped': '/False'}, page_content='3.2 Attention\\nAn attention function can be described as mapping a query and a set of key-value pairs to an output,\\nwhere the query, keys, values, and output are all vectors. The output is computed as a weighted sum\\n3'), Document(id='e385e345-69fe-470b-b471-ee889bb3cf45', metadata={'author': '', 'creationdate': '2024-04-10T21:11:43+00:00', 'creator': 'LaTeX with hyperref', 'keywords': '', 'moddate': '2024-04-10T21:11:43+00:00', 'page': 6, 'page_label': '7', 'producer': 'pdfTeX-1.40.25', 'ptex.fullbanner': 'This is pdfTeX, Version 3.141592653-2.6-1.40.25 (TeX Live 2023) kpathsea version 6.3.5', 'source': 'data/AttentionIsAllyouNeed.pdf', 'subject': '', 'title': '', 'total_pages': 15, 'trapped': '/False'}, page_content='the approach we take in our model.\\nAs side benefit, self-attention could yield more interpretable models. We inspect attention distributions\\nfrom our models and present and discuss examples in the appendix. Not only do individual attention'), Document(id='4ce8b820-ec2a-4afb-ad1a-fbb3c20cd890', metadata={'author': '', 'creationdate': '2024-04-10T21:11:43+00:00', 'creator': 'LaTeX with hyperref', 'keywords': '', 'moddate': '2024-04-10T21:11:43+00:00', 'page': 9, 'page_label': '10', 'producer': 'pdfTeX-1.40.25', 'ptex.fullbanner': 'This is pdfTeX, Version 3.141592653-2.6-1.40.25 (TeX Live 2023) kpathsea version 6.3.5', 'source': 'data/AttentionIsAllyouNeed.pdf', 'subject': '', 'title': '', 'total_pages': 15, 'trapped': '/False'}, page_content='We are excited about the future of attention-based models and plan to apply them to other tasks. We\\nplan to extend the Transformer to problems involving input and output modalities other than text and'), Document(id='47f5f3d9-e2f0-4939-be8c-d3d50817b4d6', metadata={'author': '', 'creationdate': '2024-04-10T21:11:43+00:00', 'creator': 'LaTeX with hyperref', 'keywords': '', 'moddate': '2024-04-10T21:11:43+00:00', 'page': 13, 'page_label': '14', 'producer': 'pdfTeX-1.40.25', 'ptex.fullbanner': 'This is pdfTeX, Version 3.141592653-2.6-1.40.25 (TeX Live 2023) kpathsea version 6.3.5', 'source': 'data/AttentionIsAllyouNeed.pdf', 'subject': '', 'title': '', 'total_pages': 15, 'trapped': '/False'}, page_content='Full attentions for head 5. Bottom: Isolated attentions from just the word ‘its’ for attention heads 5\\nand 6. Note that the attentions are very sharp for this word.\\n14'), Document(id='de0e989d-9862-411e-ba26-060fb9d2bbc3', metadata={'author': '', 'creationdate': '2024-04-10T21:11:43+00:00', 'creator': 'LaTeX with hyperref', 'keywords': '', 'moddate': '2024-04-10T21:11:43+00:00', 'page': 1, 'page_label': '2', 'producer': 'pdfTeX-1.40.25', 'ptex.fullbanner': 'This is pdfTeX, Version 3.141592653-2.6-1.40.25 (TeX Live 2023) kpathsea version 6.3.5', 'source': 'data/AttentionIsAllyouNeed.pdf', 'subject': '', 'title': '', 'total_pages': 15, 'trapped': '/False'}, page_content='described in section 3.2.\\nSelf-attention, sometimes called intra-attention is an attention mechanism relating different positions\\nof a single sequence in order to compute a representation of the sequence. Self-attention has been')]\n",
            "3.2 Attention\n",
            "An attention function can be described as mapping a query and a set of key-value pairs to an output,\n",
            "where the query, keys, values, and output are all vectors. The output is computed as a weighted sum\n",
            "3\n",
            "the approach we take in our model.\n",
            "As side benefit, self-attention could yield more interpretable models. We inspect attention distributions\n",
            "from our models and present and discuss examples in the appendix. Not only do individual attention\n",
            "We are excited about the future of attention-based models and plan to apply them to other tasks. We\n",
            "plan to extend the Transformer to problems involving input and output modalities other than text and\n",
            "Full attentions for head 5. Bottom: Isolated attentions from just the word ‘its’ for attention heads 5\n",
            "and 6. Note that the attentions are very sharp for this word.\n",
            "14\n",
            "described in section 3.2.\n",
            "Self-attention, sometimes called intra-attention is an attention mechanism relating different positions\n",
            "of a single sequence in order to compute a representation of the sequence. Self-attention has been\n",
            "[{'source': 'data/AttentionIsAllyouNeed.pdf', 'page_label': '3'}, {'source': 'data/AttentionIsAllyouNeed.pdf', 'page_label': '7'}, {'source': 'data/AttentionIsAllyouNeed.pdf', 'page_label': '10'}, {'source': 'data/AttentionIsAllyouNeed.pdf', 'page_label': '14'}, {'source': 'data/AttentionIsAllyouNeed.pdf', 'page_label': '2'}]\n"
          ]
        }
      ],
      "source": [
        "docs = retriever.invoke(\"What is attention\")\n",
        "print(docs)\n",
        "knowledge = \"\"\n",
        "sources = []\n",
        "for doc in docs:\n",
        "    knowledge += doc.page_content+\"\\n\\n\"\n",
        "    print(doc.page_content)\n",
        "\n",
        "for doc in docs:\n",
        "    sources.append({\"source\":doc.metadata[\"source\"], \"page_label\":doc.metadata[\"page_label\"]})\n",
        "\n",
        "print(sources)"
      ]
    },
    {
      "cell_type": "code",
      "execution_count": null,
      "metadata": {
        "id": "o9IZ-7DtzDHN"
      },
      "outputs": [],
      "source": [
        "# from langchain_google_genai import ChatGoogleGenerativeAI\n",
        "# from langchain_cohere import ChatCohere\n",
        "# from langchain_core.messages import AIMessage, HumanMessage\n",
        "# from langchain_chroma import Chroma\n",
        "# import gradio as gr\n",
        "# from langchain.embeddings import SentenceTransformerEmbeddings\n",
        "\n",
        "# llm = ChatCohere(model=\"command-r-plus-08-2024\")\n",
        "\n",
        "# # Load the embedding model\n",
        "# embeddings_model = SentenceTransformerEmbeddings(model_name=\"all-mpnet-base-v2\")\n",
        "\n",
        "# # Use the model with LangChain as before\n",
        "# vector_store = Chroma(\n",
        "#     collection_name=\"example_collection\",\n",
        "#     embedding_function=embeddings_model,\n",
        "#     persist_directory=CHROMA_PATH,\n",
        "# )\n",
        "\n",
        "# # Set up the vectorstore to be the retriever\n",
        "# num_results = 5\n",
        "# retriever = vector_store.as_retriever(search_kwargs={'k': num_results})\n",
        "\n",
        "# # call this function for every message added to the chatbot\n",
        "# def stream_response(message, history):\n",
        "#     print(f\"Input: {message}. History: {history}\\n\")\n",
        "\n",
        "#     # retrieve the relevant chunks based on the question asked\n",
        "#     docs = retriever.invoke(message)\n",
        "\n",
        "#     # add all the chunks to 'knowledge'\n",
        "#     knowledge = \"\"\n",
        "#     sources = \"Sources: \"\n",
        "#     for doc in docs:\n",
        "#         knowledge += doc.page_content+\"\\n\\n\"\n",
        "#         sources += \"\\nDocument: \" + doc.metadata[\"source\"] + \" Page: \" + doc.metadata[\"page_label\"]\n",
        "\n",
        "\n",
        "#     # make the call to the LLM (including prompt)\n",
        "#     if message is not None:\n",
        "\n",
        "#         partial_message = \"\"\n",
        "\n",
        "#         rag_prompt = f\"\"\"\n",
        "#         You are an assistant which answers questions based on knowledge which is provided to you.\n",
        "#         While answering, you don't use your internal knowledge,\n",
        "#         but solely the information in the \"The knowledge\" section.\n",
        "#         You don't mention anything to the user about the provided knowledge.\n",
        "\n",
        "#         The knowledge: {knowledge}\n",
        "\n",
        "#         \"\"\"\n",
        "\n",
        "#         print(rag_prompt)\n",
        "\n",
        "#         current_message_and_history = [\n",
        "#             HumanMessage(content=history),\n",
        "#             AIMessage(content=rag_prompt),\n",
        "#             HumanMessage(content=message),\n",
        "#         ]\n",
        "#         print(current_message_and_history)\n",
        "#         result =  llm.invoke(current_message_and_history)\n",
        "#         result = result + sources\n",
        "#         return result\n",
        "\n",
        "#         # stream the response to the Gradio App\n",
        "#         # for response in llm.stream(current_message_and_history):\n",
        "#         #     partial_message += response.content\n",
        "#         #     yield partial_message\n",
        "\n"
      ]
    },
    {
      "cell_type": "code",
      "execution_count": 25,
      "metadata": {},
      "outputs": [],
      "source": [
        "from langchain.chat_models import ChatCohere\n",
        "from langchain.schema import AIMessage, HumanMessage, SystemMessage\n",
        "from langchain.vectorstores import Chroma\n",
        "from langchain.embeddings import SentenceTransformerEmbeddings\n",
        "\n",
        "# Initialize Cohere LLM\n",
        "llm = ChatCohere(model=\"command-r-plus-08-2024\")\n",
        "\n",
        "# Load the embedding model\n",
        "embeddings_model = SentenceTransformerEmbeddings(model_name=\"all-mpnet-base-v2\")\n",
        "\n",
        "# Initialize Vector Store\n",
        "vector_store = Chroma(\n",
        "    collection_name=\"example_collection\",\n",
        "    embedding_function=embeddings_model,\n",
        "    persist_directory=CHROMA_PATH,\n",
        ")\n",
        "\n",
        "# Set up retriever\n",
        "num_results = 5\n",
        "retriever = vector_store.as_retriever(search_kwargs={'k': num_results})\n",
        "\n",
        "def stream_response(message, history):\n",
        "    \"\"\"Handles chatbot conversation in Gradio.\"\"\"\n",
        "    partial_message = \"\"\n",
        "    # Convert Gradio history to LangChain format\n",
        "    chat_history = [SystemMessage(content=\"You are a helpful assistant. Answer based on the provided knowledge.\")]\n",
        "    for user_msg, bot_msg in history:\n",
        "        chat_history.append(HumanMessage(content=user_msg))\n",
        "        chat_history.append(AIMessage(content=bot_msg))\n",
        "\n",
        "    # Retrieve relevant documents\n",
        "    docs = retriever.invoke(message)\n",
        "\n",
        "    # Format retrieved knowledge\n",
        "    knowledge = \"\\n\\n\".join([doc.page_content for doc in docs])\n",
        "    sources = \"\\n\".join([f\"Document: {doc.metadata['source']}, Page: {doc.metadata.get('page_label', 'N/A')}\" for doc in docs])\n",
        "\n",
        "    # Construct the prompt\n",
        "    rag_prompt = f\"\"\"\n",
        "    You are an assistant that answers questions based solely on the provided knowledge.\n",
        "    If the knowledge does not contain the answer, say you don't know.\n",
        "    \n",
        "    The knowledge:\n",
        "    {knowledge}\n",
        "    \"\"\"\n",
        "\n",
        "    # Append user query\n",
        "    chat_history.append(HumanMessage(content=message))\n",
        "    chat_history.append(AIMessage(content=rag_prompt))\n",
        "\n",
        "\n",
        "    last_chunk = None  # Track last chunk\n",
        "    for response in llm.stream(chat_history):\n",
        "        partial_message += response.content\n",
        "        last_chunk = response.content  # Keep track of the final chunk\n",
        "        yield partial_message  # Send intermediate responses\n",
        "\n",
        "    # Append sources only to the last streamed chunk\n",
        "    if last_chunk:\n",
        "        uncertainty_phrases = [\"I don't know\", \"I'm not sure if I can answer that\", \"I'm sorry\"]\n",
        "        if not any(phrase.lower() in partial_message.lower() for phrase in uncertainty_phrases):\n",
        "            final_response = partial_message + \"\\n\\nSources:\\n\" + sources\n",
        "        else:\n",
        "            final_response = partial_message \n",
        "        yield final_response \n",
        "        \n"
      ]
    },
    {
      "cell_type": "code",
      "execution_count": null,
      "metadata": {
        "colab": {
          "base_uri": "https://localhost:8080/"
        },
        "id": "tWfMPmSg4Ga6",
        "outputId": "d6304d9f-cff8-4063-9d75-91c03c3a026f"
      },
      "outputs": [],
      "source": [
        "# response_generator = stream_response(\"What is attention\", \"First Message\")  # Empty history for the first call\n",
        "\n",
        "# print (response_generator)\n",
        "\n",
        "\n",
        "# for partial_response in response_generator:\n",
        "#        print(partial_response)  # Or do something else with partial_response"
      ]
    },
    {
      "cell_type": "code",
      "execution_count": 26,
      "metadata": {
        "id": "QRUpa-m04F-F"
      },
      "outputs": [
        {
          "name": "stdout",
          "output_type": "stream",
          "text": [
            "Running on local URL:  http://127.0.0.1:7861\n"
          ]
        },
        {
          "name": "stderr",
          "output_type": "stream",
          "text": [
            "huggingface/tokenizers: The current process just got forked, after parallelism has already been used. Disabling parallelism to avoid deadlocks...\n",
            "To disable this warning, you can either:\n",
            "\t- Avoid using `tokenizers` before the fork if possible\n",
            "\t- Explicitly set the environment variable TOKENIZERS_PARALLELISM=(true | false)\n"
          ]
        },
        {
          "name": "stdout",
          "output_type": "stream",
          "text": [
            "Running on public URL: https://15e558265ec38cb63b.gradio.live\n",
            "\n",
            "This share link expires in 72 hours. For free permanent hosting and GPU upgrades, run `gradio deploy` from Terminal to deploy to Spaces (https://huggingface.co/spaces)\n"
          ]
        },
        {
          "data": {
            "text/html": [
              "<div><iframe src=\"https://15e558265ec38cb63b.gradio.live\" width=\"100%\" height=\"500\" allow=\"autoplay; camera; microphone; clipboard-read; clipboard-write;\" frameborder=\"0\" allowfullscreen></iframe></div>"
            ],
            "text/plain": [
              "<IPython.core.display.HTML object>"
            ]
          },
          "metadata": {},
          "output_type": "display_data"
        },
        {
          "data": {
            "text/plain": []
          },
          "execution_count": 26,
          "metadata": {},
          "output_type": "execute_result"
        }
      ],
      "source": [
        "# initiate the Gradio app\n",
        "import gradio as gr\n",
        "\n",
        "chatbot = gr.ChatInterface(stream_response, textbox=gr.Textbox(placeholder=\"Send to the LLM...\",\n",
        "    container=False,\n",
        "    autoscroll=True,\n",
        "    scale=7),\n",
        ")\n",
        "chatbot.launch(share=True)\n"
      ]
    }
  ],
  "metadata": {
    "colab": {
      "provenance": []
    },
    "kernelspec": {
      "display_name": "dev",
      "language": "python",
      "name": "python3"
    },
    "language_info": {
      "codemirror_mode": {
        "name": "ipython",
        "version": 3
      },
      "file_extension": ".py",
      "mimetype": "text/x-python",
      "name": "python",
      "nbconvert_exporter": "python",
      "pygments_lexer": "ipython3",
      "version": "3.9.15"
    }
  },
  "nbformat": 4,
  "nbformat_minor": 0
}
