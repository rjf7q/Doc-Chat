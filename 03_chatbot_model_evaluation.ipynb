{
 "cells": [
  {
   "cell_type": "code",
   "execution_count": 1,
   "metadata": {},
   "outputs": [
    {
     "name": "stderr",
     "output_type": "stream",
     "text": [
      "[nltk_data] Downloading package punkt to\n",
      "[nltk_data]     /Users/avineetsharma/nltk_data...\n",
      "[nltk_data]   Package punkt is already up-to-date!\n"
     ]
    },
    {
     "data": {
      "text/plain": [
       "True"
      ]
     },
     "execution_count": 1,
     "metadata": {},
     "output_type": "execute_result"
    }
   ],
   "source": [
    "import nltk\n",
    "from nltk.translate.bleu_score import sentence_bleu, SmoothingFunction\n",
    "\n",
    "# Ensure you have the necessary nltk data\n",
    "nltk.download('punkt')\n"
   ]
  },
  {
   "cell_type": "code",
   "execution_count": 3,
   "metadata": {},
   "outputs": [
    {
     "data": {
      "text/plain": [
       "[{'query': 'What is machine learning?',\n",
       "  'expected': 'Machine learning is a field within AI that develops algorithms and models enabling computers to learn and make decisions without explicit programming. It allows machines to analyze data, identify patterns, and make informed decisions with minimal human intervention by training on vast datasets. ML is categorized into three types: Supervised Learning, where algorithms learn from labeled data to make predictions; Unsupervised Learning, where algorithms find patterns in unlabeled data for clustering and anomaly detection; and Reinforcement Learning, where models learn through rewards and penalties to optimize decision-making. Applications include image and speech recognition, NLP, recommendation systems, fraud detection, predictive analytics, and autonomous driving, making ML a key part of modern AI systems.',\n",
       "  'generated': 'Machine learning is a branch of artificial intelligence (AI) that focuses on developing algorithms and models that enable computers to learn and improve over time, autonomously. It involves creating systems that can automatically analyse and interpret data, learn from patterns and make predictions or decisions with minimal human intervention.\\n\\nIn machine learning, algorithms are designed to learn from and make predictions or decisions based on data. These algorithms are trained using large sets of labelled or structured data, allowing them to identify patterns, correlations, and insights. Once trained, the models can then be applied to new, unseen data to make predictions or classifications.\\n\\nThere are several types of machine learning, including supervised learning, unsupervised learning, and reinforcement learning, each with its own unique approach and applications. Supervised learning involves training models on labelled data, while unsupervised learning identifies patterns in unlabelled data. Reinforcement learning, on the other hand, uses rewards and penalties to train models to make sequential decisions.\\n\\nThe applications of machine learning are vast and diverse, including image and speech recognition, natural language processing, recommendation systems, predictive analytics, autonomous vehicles, and personalised medicine. By enabling computers to learn and adapt, machine learning has the potential to revolutionise numerous industries and solve complex real-world problems.'},\n",
       " {'query': 'What is logistic regression?',\n",
       "  'expected': 'Logistic regression is a statistical method used to predict binary outcomes, such as the probability of an event occurring or a category that a data point belongs to. It employs a sigmoid function to convert continuous data into a probability, enabling predictions about binary events or classifications.',\n",
       "  'generated': 'Logistic regression is a statistical method used to predict binary outcomes from data. It is particularly useful when the dependent variable is binary or categorical. The technique employs a sigmoid function to convert continuous data into a probability, enabling predictions about the likelihood of an event or category membership.\\n\\nFor example, in the context of credit scoring, logistic regression can be applied to predict the probability of a borrower being a \"good credit\" borrower based on their payment history and other relevant factors. The sigmoid function transforms the continuous data (e.g., months without delinquent payments) into a probability value between 0 and 1, representing the likelihood of being a good credit borrower.'},\n",
       " {'query': 'What is a neural network?',\n",
       "  'expected': 'A neural network is an advanced machine learning model inspired by the human brain, consisting of interconnected artificial neurons organized into input, hidden, and output layers. These networks excel at processing complex, large-scale datasets and are widely used by companies like Google, Facebook, Twitter, and Amazon for various applications. They learn by adjusting connection weights and biases through backpropagation, an iterative process that minimizes prediction errors, enhancing their accuracy and performance over time.',\n",
       "  'generated': \"A neural network is a sophisticated machine learning technique inspired by the human brain's neurons. It consists of multiple layers of nodes, each performing individual computations. These networks are designed to mimic the brain's functionality, with artificial neurons replicating the role of biological neurons.\\n\\nIndustry leaders like Google, Facebook, Twitter, and Amazon utilise neural networks to analyse intricate datasets. The structure of a modern neural network comprises several interconnected perceptrons, which learn from input data to generate an output.\"}]"
      ]
     },
     "execution_count": 3,
     "metadata": {},
     "output_type": "execute_result"
    }
   ],
   "source": [
    "import json\n",
    "\n",
    "with open('test_cases.json', 'r') as file:\n",
    "    test_cases = json.load(file)\n",
    "\n",
    "test_cases\n"
   ]
  },
  {
   "cell_type": "code",
   "execution_count": null,
   "metadata": {},
   "outputs": [],
   "source": [
    "# Function to calculate BLEU score\n",
    "def calculate_bleu(reference, hypothesis):\n",
    "    \"\"\"\n",
    "    Compute the BLEU score between reference and hypothesis texts.\n",
    "    Uses smoothing to handle short sentences.\n",
    "    \"\"\"\n",
    "    reference_tokens = [nltk.word_tokenize(reference.lower())]  # Convert to list of lists\n",
    "    hypothesis_tokens = nltk.word_tokenize(hypothesis.lower())\n",
    "\n",
    "    # Smoothing function to avoid zero scores for short responses\n",
    "    smoothie = SmoothingFunction().method1\n",
    "\n",
    "    bleu_score = sentence_bleu(reference_tokens, hypothesis_tokens, smoothing_function=smoothie)\n",
    "    return round(bleu_score, 4)\n"
   ]
  },
  {
   "cell_type": "code",
   "execution_count": 5,
   "metadata": {},
   "outputs": [
    {
     "name": "stdout",
     "output_type": "stream",
     "text": [
      "Query: What is machine learning?\n",
      "Expected: Machine learning is a field within AI that develops algorithms and models enabling computers to learn and make decisions without explicit programming. It allows machines to analyze data, identify patterns, and make informed decisions with minimal human intervention by training on vast datasets. ML is categorized into three types: Supervised Learning, where algorithms learn from labeled data to make predictions; Unsupervised Learning, where algorithms find patterns in unlabeled data for clustering and anomaly detection; and Reinforcement Learning, where models learn through rewards and penalties to optimize decision-making. Applications include image and speech recognition, NLP, recommendation systems, fraud detection, predictive analytics, and autonomous driving, making ML a key part of modern AI systems.\n",
      "Generated: Machine learning is a branch of artificial intelligence (AI) that focuses on developing algorithms and models that enable computers to learn and improve over time, autonomously. It involves creating systems that can automatically analyse and interpret data, learn from patterns and make predictions or decisions with minimal human intervention.\n",
      "\n",
      "In machine learning, algorithms are designed to learn from and make predictions or decisions based on data. These algorithms are trained using large sets of labelled or structured data, allowing them to identify patterns, correlations, and insights. Once trained, the models can then be applied to new, unseen data to make predictions or classifications.\n",
      "\n",
      "There are several types of machine learning, including supervised learning, unsupervised learning, and reinforcement learning, each with its own unique approach and applications. Supervised learning involves training models on labelled data, while unsupervised learning identifies patterns in unlabelled data. Reinforcement learning, on the other hand, uses rewards and penalties to train models to make sequential decisions.\n",
      "\n",
      "The applications of machine learning are vast and diverse, including image and speech recognition, natural language processing, recommendation systems, predictive analytics, autonomous vehicles, and personalised medicine. By enabling computers to learn and adapt, machine learning has the potential to revolutionise numerous industries and solve complex real-world problems.\n",
      "BLEU Score: 0.1384\n",
      "\n",
      "Query: What is logistic regression?\n",
      "Expected: Logistic regression is a statistical method used to predict binary outcomes, such as the probability of an event occurring or a category that a data point belongs to. It employs a sigmoid function to convert continuous data into a probability, enabling predictions about binary events or classifications.\n",
      "Generated: Logistic regression is a statistical method used to predict binary outcomes from data. It is particularly useful when the dependent variable is binary or categorical. The technique employs a sigmoid function to convert continuous data into a probability, enabling predictions about the likelihood of an event or category membership.\n",
      "\n",
      "For example, in the context of credit scoring, logistic regression can be applied to predict the probability of a borrower being a \"good credit\" borrower based on their payment history and other relevant factors. The sigmoid function transforms the continuous data (e.g., months without delinquent payments) into a probability value between 0 and 1, representing the likelihood of being a good credit borrower.\n",
      "BLEU Score: 0.2234\n",
      "\n",
      "Query: What is a neural network?\n",
      "Expected: A neural network is an advanced machine learning model inspired by the human brain, consisting of interconnected artificial neurons organized into input, hidden, and output layers. These networks excel at processing complex, large-scale datasets and are widely used by companies like Google, Facebook, Twitter, and Amazon for various applications. They learn by adjusting connection weights and biases through backpropagation, an iterative process that minimizes prediction errors, enhancing their accuracy and performance over time.\n",
      "Generated: A neural network is a sophisticated machine learning technique inspired by the human brain's neurons. It consists of multiple layers of nodes, each performing individual computations. These networks are designed to mimic the brain's functionality, with artificial neurons replicating the role of biological neurons.\n",
      "\n",
      "Industry leaders like Google, Facebook, Twitter, and Amazon utilise neural networks to analyse intricate datasets. The structure of a modern neural network comprises several interconnected perceptrons, which learn from input data to generate an output.\n",
      "BLEU Score: 0.1896\n",
      "\n"
     ]
    }
   ],
   "source": [
    "\n",
    "# Evaluate BLEU scores for test cases\n",
    "for case in test_cases:\n",
    "    score = calculate_bleu(case[\"expected\"], case[\"generated\"])\n",
    "    print(f\"Query: {case['query']}\")\n",
    "    print(f\"Expected: {case['expected']}\")\n",
    "    print(f\"Generated: {case['generated']}\")\n",
    "    print(f\"BLEU Score: {score}\\n\")\n"
   ]
  }
 ],
 "metadata": {
  "kernelspec": {
   "display_name": "dev",
   "language": "python",
   "name": "python3"
  },
  "language_info": {
   "codemirror_mode": {
    "name": "ipython",
    "version": 3
   },
   "file_extension": ".py",
   "mimetype": "text/x-python",
   "name": "python",
   "nbconvert_exporter": "python",
   "pygments_lexer": "ipython3",
   "version": "3.9.15"
  }
 },
 "nbformat": 4,
 "nbformat_minor": 2
}
