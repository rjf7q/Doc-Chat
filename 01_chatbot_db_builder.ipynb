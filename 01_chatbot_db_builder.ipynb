{
  "cells": [
    {
      "cell_type": "code",
      "execution_count": 12,
      "metadata": {
        "colab": {
          "base_uri": "https://localhost:8080/"
        },
        "id": "vACFNH74rWFl",
        "outputId": "e973e38a-66ba-4055-c4a2-dba2708fcdcd"
      },
      "outputs": [
        {
          "name": "stdout",
          "output_type": "stream",
          "text": [
            "Requirement already satisfied: langchain_community in /opt/anaconda3/envs/dev/lib/python3.9/site-packages (0.3.18)\n",
            "Requirement already satisfied: langchain_text_splitters in /opt/anaconda3/envs/dev/lib/python3.9/site-packages (0.3.6)\n",
            "Requirement already satisfied: langchain_openai in /opt/anaconda3/envs/dev/lib/python3.9/site-packages (0.3.7)\n",
            "Requirement already satisfied: langchain_chroma in /opt/anaconda3/envs/dev/lib/python3.9/site-packages (0.2.2)\n",
            "Requirement already satisfied: gradio in /opt/anaconda3/envs/dev/lib/python3.9/site-packages (4.44.1)\n",
            "Requirement already satisfied: python-dotenv in /opt/anaconda3/envs/dev/lib/python3.9/site-packages (0.21.0)\n",
            "Requirement already satisfied: pypdf in /opt/anaconda3/envs/dev/lib/python3.9/site-packages (5.3.0)\n",
            "Requirement already satisfied: langchain-core<1.0.0,>=0.3.37 in /opt/anaconda3/envs/dev/lib/python3.9/site-packages (from langchain_community) (0.3.39)\n",
            "Requirement already satisfied: langchain<1.0.0,>=0.3.19 in /opt/anaconda3/envs/dev/lib/python3.9/site-packages (from langchain_community) (0.3.19)\n",
            "Requirement already satisfied: SQLAlchemy<3,>=1.4 in /opt/anaconda3/envs/dev/lib/python3.9/site-packages (from langchain_community) (2.0.38)\n",
            "Requirement already satisfied: requests<3,>=2 in /opt/anaconda3/envs/dev/lib/python3.9/site-packages (from langchain_community) (2.32.3)\n",
            "Requirement already satisfied: PyYAML>=5.3 in /opt/anaconda3/envs/dev/lib/python3.9/site-packages (from langchain_community) (6.0.2)\n",
            "Requirement already satisfied: aiohttp<4.0.0,>=3.8.3 in /opt/anaconda3/envs/dev/lib/python3.9/site-packages (from langchain_community) (3.11.10)\n",
            "Requirement already satisfied: tenacity!=8.4.0,<10,>=8.1.0 in /opt/anaconda3/envs/dev/lib/python3.9/site-packages (from langchain_community) (9.0.0)\n",
            "Requirement already satisfied: dataclasses-json<0.7,>=0.5.7 in /opt/anaconda3/envs/dev/lib/python3.9/site-packages (from langchain_community) (0.6.7)\n",
            "Requirement already satisfied: pydantic-settings<3.0.0,>=2.4.0 in /opt/anaconda3/envs/dev/lib/python3.9/site-packages (from langchain_community) (2.8.0)\n",
            "Requirement already satisfied: langsmith<0.4,>=0.1.125 in /opt/anaconda3/envs/dev/lib/python3.9/site-packages (from langchain_community) (0.3.10)\n",
            "Requirement already satisfied: httpx-sse<1.0.0,>=0.4.0 in /opt/anaconda3/envs/dev/lib/python3.9/site-packages (from langchain_community) (0.4.0)\n",
            "Requirement already satisfied: numpy<2,>=1.26.4 in /opt/anaconda3/envs/dev/lib/python3.9/site-packages (from langchain_community) (1.26.4)\n",
            "Requirement already satisfied: openai<2.0.0,>=1.58.1 in /opt/anaconda3/envs/dev/lib/python3.9/site-packages (from langchain_openai) (1.65.3)\n",
            "Requirement already satisfied: tiktoken<1,>=0.7 in /opt/anaconda3/envs/dev/lib/python3.9/site-packages (from langchain_openai) (0.9.0)\n",
            "Requirement already satisfied: chromadb!=0.5.10,!=0.5.11,!=0.5.12,!=0.5.4,!=0.5.5,!=0.5.7,!=0.5.9,<0.7.0,>=0.4.0 in /opt/anaconda3/envs/dev/lib/python3.9/site-packages (from langchain_chroma) (0.6.3)\n",
            "Requirement already satisfied: aiofiles<24.0,>=22.0 in /opt/anaconda3/envs/dev/lib/python3.9/site-packages (from gradio) (23.2.1)\n",
            "Requirement already satisfied: anyio<5.0,>=3.0 in /opt/anaconda3/envs/dev/lib/python3.9/site-packages (from gradio) (4.8.0)\n",
            "Requirement already satisfied: fastapi<1.0 in /opt/anaconda3/envs/dev/lib/python3.9/site-packages (from gradio) (0.115.8)\n",
            "Requirement already satisfied: ffmpy in /opt/anaconda3/envs/dev/lib/python3.9/site-packages (from gradio) (0.5.0)\n",
            "Requirement already satisfied: gradio-client==1.3.0 in /opt/anaconda3/envs/dev/lib/python3.9/site-packages (from gradio) (1.3.0)\n",
            "Requirement already satisfied: httpx>=0.24.1 in /opt/anaconda3/envs/dev/lib/python3.9/site-packages (from gradio) (0.28.1)\n",
            "Requirement already satisfied: huggingface-hub>=0.19.3 in /opt/anaconda3/envs/dev/lib/python3.9/site-packages (from gradio) (0.28.0)\n",
            "Requirement already satisfied: importlib-resources<7.0,>=1.3 in /opt/anaconda3/envs/dev/lib/python3.9/site-packages (from gradio) (6.4.0)\n",
            "Requirement already satisfied: jinja2<4.0 in /opt/anaconda3/envs/dev/lib/python3.9/site-packages (from gradio) (3.1.5)\n",
            "Requirement already satisfied: markupsafe~=2.0 in /opt/anaconda3/envs/dev/lib/python3.9/site-packages (from gradio) (2.1.3)\n",
            "Requirement already satisfied: matplotlib~=3.0 in /opt/anaconda3/envs/dev/lib/python3.9/site-packages (from gradio) (3.9.2)\n",
            "Requirement already satisfied: orjson~=3.0 in /opt/anaconda3/envs/dev/lib/python3.9/site-packages (from gradio) (3.10.15)\n",
            "Requirement already satisfied: packaging in /opt/anaconda3/envs/dev/lib/python3.9/site-packages (from gradio) (24.2)\n",
            "Requirement already satisfied: pandas<3.0,>=1.0 in /opt/anaconda3/envs/dev/lib/python3.9/site-packages (from gradio) (2.2.3)\n",
            "Requirement already satisfied: pillow<11.0,>=8.0 in /opt/anaconda3/envs/dev/lib/python3.9/site-packages (from gradio) (10.4.0)\n",
            "Requirement already satisfied: pydantic>=2.0 in /opt/anaconda3/envs/dev/lib/python3.9/site-packages (from gradio) (2.10.3)\n",
            "Requirement already satisfied: pydub in /opt/anaconda3/envs/dev/lib/python3.9/site-packages (from gradio) (0.25.1)\n",
            "Requirement already satisfied: python-multipart>=0.0.9 in /opt/anaconda3/envs/dev/lib/python3.9/site-packages (from gradio) (0.0.20)\n",
            "Requirement already satisfied: ruff>=0.2.2 in /opt/anaconda3/envs/dev/lib/python3.9/site-packages (from gradio) (0.9.7)\n",
            "Requirement already satisfied: semantic-version~=2.0 in /opt/anaconda3/envs/dev/lib/python3.9/site-packages (from gradio) (2.10.0)\n",
            "Requirement already satisfied: tomlkit==0.12.0 in /opt/anaconda3/envs/dev/lib/python3.9/site-packages (from gradio) (0.12.0)\n",
            "Requirement already satisfied: typer<1.0,>=0.12 in /opt/anaconda3/envs/dev/lib/python3.9/site-packages (from gradio) (0.15.1)\n",
            "Requirement already satisfied: typing-extensions~=4.0 in /opt/anaconda3/envs/dev/lib/python3.9/site-packages (from gradio) (4.12.2)\n",
            "Requirement already satisfied: urllib3~=2.0 in /opt/anaconda3/envs/dev/lib/python3.9/site-packages (from gradio) (2.3.0)\n",
            "Requirement already satisfied: uvicorn>=0.14.0 in /opt/anaconda3/envs/dev/lib/python3.9/site-packages (from gradio) (0.34.0)\n",
            "Requirement already satisfied: fsspec in /opt/anaconda3/envs/dev/lib/python3.9/site-packages (from gradio-client==1.3.0->gradio) (2024.12.0)\n",
            "Requirement already satisfied: websockets<13.0,>=10.0 in /opt/anaconda3/envs/dev/lib/python3.9/site-packages (from gradio-client==1.3.0->gradio) (12.0)\n",
            "Requirement already satisfied: aiohappyeyeballs>=2.3.0 in /opt/anaconda3/envs/dev/lib/python3.9/site-packages (from aiohttp<4.0.0,>=3.8.3->langchain_community) (2.4.4)\n",
            "Requirement already satisfied: aiosignal>=1.1.2 in /opt/anaconda3/envs/dev/lib/python3.9/site-packages (from aiohttp<4.0.0,>=3.8.3->langchain_community) (1.2.0)\n",
            "Requirement already satisfied: attrs>=17.3.0 in /opt/anaconda3/envs/dev/lib/python3.9/site-packages (from aiohttp<4.0.0,>=3.8.3->langchain_community) (24.3.0)\n",
            "Requirement already satisfied: frozenlist>=1.1.1 in /opt/anaconda3/envs/dev/lib/python3.9/site-packages (from aiohttp<4.0.0,>=3.8.3->langchain_community) (1.5.0)\n",
            "Requirement already satisfied: multidict<7.0,>=4.5 in /opt/anaconda3/envs/dev/lib/python3.9/site-packages (from aiohttp<4.0.0,>=3.8.3->langchain_community) (6.1.0)\n",
            "Requirement already satisfied: propcache>=0.2.0 in /opt/anaconda3/envs/dev/lib/python3.9/site-packages (from aiohttp<4.0.0,>=3.8.3->langchain_community) (0.2.0)\n",
            "Requirement already satisfied: yarl<2.0,>=1.17.0 in /opt/anaconda3/envs/dev/lib/python3.9/site-packages (from aiohttp<4.0.0,>=3.8.3->langchain_community) (1.18.0)\n",
            "Requirement already satisfied: async-timeout<6.0,>=4.0 in /opt/anaconda3/envs/dev/lib/python3.9/site-packages (from aiohttp<4.0.0,>=3.8.3->langchain_community) (4.0.3)\n",
            "Requirement already satisfied: exceptiongroup>=1.0.2 in /opt/anaconda3/envs/dev/lib/python3.9/site-packages (from anyio<5.0,>=3.0->gradio) (1.2.2)\n",
            "Requirement already satisfied: idna>=2.8 in /opt/anaconda3/envs/dev/lib/python3.9/site-packages (from anyio<5.0,>=3.0->gradio) (3.7)\n",
            "Requirement already satisfied: sniffio>=1.1 in /opt/anaconda3/envs/dev/lib/python3.9/site-packages (from anyio<5.0,>=3.0->gradio) (1.3.1)\n",
            "Requirement already satisfied: build>=1.0.3 in /opt/anaconda3/envs/dev/lib/python3.9/site-packages (from chromadb!=0.5.10,!=0.5.11,!=0.5.12,!=0.5.4,!=0.5.5,!=0.5.7,!=0.5.9,<0.7.0,>=0.4.0->langchain_chroma) (1.2.2.post1)\n",
            "Requirement already satisfied: chroma-hnswlib==0.7.6 in /opt/anaconda3/envs/dev/lib/python3.9/site-packages (from chromadb!=0.5.10,!=0.5.11,!=0.5.12,!=0.5.4,!=0.5.5,!=0.5.7,!=0.5.9,<0.7.0,>=0.4.0->langchain_chroma) (0.7.6)\n",
            "Requirement already satisfied: posthog>=2.4.0 in /opt/anaconda3/envs/dev/lib/python3.9/site-packages (from chromadb!=0.5.10,!=0.5.11,!=0.5.12,!=0.5.4,!=0.5.5,!=0.5.7,!=0.5.9,<0.7.0,>=0.4.0->langchain_chroma) (3.18.1)\n",
            "Requirement already satisfied: onnxruntime>=1.14.1 in /opt/anaconda3/envs/dev/lib/python3.9/site-packages (from chromadb!=0.5.10,!=0.5.11,!=0.5.12,!=0.5.4,!=0.5.5,!=0.5.7,!=0.5.9,<0.7.0,>=0.4.0->langchain_chroma) (1.19.2)\n",
            "Requirement already satisfied: opentelemetry-api>=1.2.0 in /opt/anaconda3/envs/dev/lib/python3.9/site-packages (from chromadb!=0.5.10,!=0.5.11,!=0.5.12,!=0.5.4,!=0.5.5,!=0.5.7,!=0.5.9,<0.7.0,>=0.4.0->langchain_chroma) (1.30.0)\n",
            "Requirement already satisfied: opentelemetry-exporter-otlp-proto-grpc>=1.2.0 in /opt/anaconda3/envs/dev/lib/python3.9/site-packages (from chromadb!=0.5.10,!=0.5.11,!=0.5.12,!=0.5.4,!=0.5.5,!=0.5.7,!=0.5.9,<0.7.0,>=0.4.0->langchain_chroma) (1.30.0)\n",
            "Requirement already satisfied: opentelemetry-instrumentation-fastapi>=0.41b0 in /opt/anaconda3/envs/dev/lib/python3.9/site-packages (from chromadb!=0.5.10,!=0.5.11,!=0.5.12,!=0.5.4,!=0.5.5,!=0.5.7,!=0.5.9,<0.7.0,>=0.4.0->langchain_chroma) (0.51b0)\n",
            "Requirement already satisfied: opentelemetry-sdk>=1.2.0 in /opt/anaconda3/envs/dev/lib/python3.9/site-packages (from chromadb!=0.5.10,!=0.5.11,!=0.5.12,!=0.5.4,!=0.5.5,!=0.5.7,!=0.5.9,<0.7.0,>=0.4.0->langchain_chroma) (1.30.0)\n",
            "Requirement already satisfied: tokenizers>=0.13.2 in /opt/anaconda3/envs/dev/lib/python3.9/site-packages (from chromadb!=0.5.10,!=0.5.11,!=0.5.12,!=0.5.4,!=0.5.5,!=0.5.7,!=0.5.9,<0.7.0,>=0.4.0->langchain_chroma) (0.20.1)\n",
            "Requirement already satisfied: pypika>=0.48.9 in /opt/anaconda3/envs/dev/lib/python3.9/site-packages (from chromadb!=0.5.10,!=0.5.11,!=0.5.12,!=0.5.4,!=0.5.5,!=0.5.7,!=0.5.9,<0.7.0,>=0.4.0->langchain_chroma) (0.48.9)\n",
            "Requirement already satisfied: tqdm>=4.65.0 in /opt/anaconda3/envs/dev/lib/python3.9/site-packages (from chromadb!=0.5.10,!=0.5.11,!=0.5.12,!=0.5.4,!=0.5.5,!=0.5.7,!=0.5.9,<0.7.0,>=0.4.0->langchain_chroma) (4.66.5)\n",
            "Requirement already satisfied: overrides>=7.3.1 in /opt/anaconda3/envs/dev/lib/python3.9/site-packages (from chromadb!=0.5.10,!=0.5.11,!=0.5.12,!=0.5.4,!=0.5.5,!=0.5.7,!=0.5.9,<0.7.0,>=0.4.0->langchain_chroma) (7.7.0)\n",
            "Requirement already satisfied: grpcio>=1.58.0 in /opt/anaconda3/envs/dev/lib/python3.9/site-packages (from chromadb!=0.5.10,!=0.5.11,!=0.5.12,!=0.5.4,!=0.5.5,!=0.5.7,!=0.5.9,<0.7.0,>=0.4.0->langchain_chroma) (1.71.0rc2)\n",
            "Requirement already satisfied: bcrypt>=4.0.1 in /opt/anaconda3/envs/dev/lib/python3.9/site-packages (from chromadb!=0.5.10,!=0.5.11,!=0.5.12,!=0.5.4,!=0.5.5,!=0.5.7,!=0.5.9,<0.7.0,>=0.4.0->langchain_chroma) (4.3.0)\n",
            "Requirement already satisfied: kubernetes>=28.1.0 in /opt/anaconda3/envs/dev/lib/python3.9/site-packages (from chromadb!=0.5.10,!=0.5.11,!=0.5.12,!=0.5.4,!=0.5.5,!=0.5.7,!=0.5.9,<0.7.0,>=0.4.0->langchain_chroma) (32.0.1)\n",
            "Requirement already satisfied: mmh3>=4.0.1 in /opt/anaconda3/envs/dev/lib/python3.9/site-packages (from chromadb!=0.5.10,!=0.5.11,!=0.5.12,!=0.5.4,!=0.5.5,!=0.5.7,!=0.5.9,<0.7.0,>=0.4.0->langchain_chroma) (5.1.0)\n",
            "Requirement already satisfied: rich>=10.11.0 in /opt/anaconda3/envs/dev/lib/python3.9/site-packages (from chromadb!=0.5.10,!=0.5.11,!=0.5.12,!=0.5.4,!=0.5.5,!=0.5.7,!=0.5.9,<0.7.0,>=0.4.0->langchain_chroma) (13.9.4)\n",
            "Requirement already satisfied: marshmallow<4.0.0,>=3.18.0 in /opt/anaconda3/envs/dev/lib/python3.9/site-packages (from dataclasses-json<0.7,>=0.5.7->langchain_community) (3.26.1)\n",
            "Requirement already satisfied: typing-inspect<1,>=0.4.0 in /opt/anaconda3/envs/dev/lib/python3.9/site-packages (from dataclasses-json<0.7,>=0.5.7->langchain_community) (0.9.0)\n",
            "Requirement already satisfied: starlette<0.46.0,>=0.40.0 in /opt/anaconda3/envs/dev/lib/python3.9/site-packages (from fastapi<1.0->gradio) (0.45.3)\n",
            "Requirement already satisfied: certifi in /opt/anaconda3/envs/dev/lib/python3.9/site-packages (from httpx>=0.24.1->gradio) (2025.1.31)\n",
            "Requirement already satisfied: httpcore==1.* in /opt/anaconda3/envs/dev/lib/python3.9/site-packages (from httpx>=0.24.1->gradio) (1.0.7)\n",
            "Requirement already satisfied: h11<0.15,>=0.13 in /opt/anaconda3/envs/dev/lib/python3.9/site-packages (from httpcore==1.*->httpx>=0.24.1->gradio) (0.14.0)\n",
            "Requirement already satisfied: filelock in /opt/anaconda3/envs/dev/lib/python3.9/site-packages (from huggingface-hub>=0.19.3->gradio) (3.13.1)\n",
            "Requirement already satisfied: zipp>=3.1.0 in /opt/anaconda3/envs/dev/lib/python3.9/site-packages (from importlib-resources<7.0,>=1.3->gradio) (3.21.0)\n",
            "Requirement already satisfied: jsonpatch<2.0,>=1.33 in /opt/anaconda3/envs/dev/lib/python3.9/site-packages (from langchain-core<1.0.0,>=0.3.37->langchain_community) (1.33)\n",
            "Requirement already satisfied: requests-toolbelt<2.0.0,>=1.0.0 in /opt/anaconda3/envs/dev/lib/python3.9/site-packages (from langsmith<0.4,>=0.1.125->langchain_community) (1.0.0)\n",
            "Requirement already satisfied: zstandard<0.24.0,>=0.23.0 in /opt/anaconda3/envs/dev/lib/python3.9/site-packages (from langsmith<0.4,>=0.1.125->langchain_community) (0.23.0)\n",
            "Requirement already satisfied: contourpy>=1.0.1 in /opt/anaconda3/envs/dev/lib/python3.9/site-packages (from matplotlib~=3.0->gradio) (1.2.0)\n",
            "Requirement already satisfied: cycler>=0.10 in /opt/anaconda3/envs/dev/lib/python3.9/site-packages (from matplotlib~=3.0->gradio) (0.11.0)\n",
            "Requirement already satisfied: fonttools>=4.22.0 in /opt/anaconda3/envs/dev/lib/python3.9/site-packages (from matplotlib~=3.0->gradio) (4.55.3)\n",
            "Requirement already satisfied: kiwisolver>=1.3.1 in /opt/anaconda3/envs/dev/lib/python3.9/site-packages (from matplotlib~=3.0->gradio) (1.4.4)\n",
            "Requirement already satisfied: pyparsing>=2.3.1 in /opt/anaconda3/envs/dev/lib/python3.9/site-packages (from matplotlib~=3.0->gradio) (3.2.0)\n",
            "Requirement already satisfied: python-dateutil>=2.7 in /opt/anaconda3/envs/dev/lib/python3.9/site-packages (from matplotlib~=3.0->gradio) (2.9.0.post0)\n",
            "Requirement already satisfied: distro<2,>=1.7.0 in /opt/anaconda3/envs/dev/lib/python3.9/site-packages (from openai<2.0.0,>=1.58.1->langchain_openai) (1.9.0)\n",
            "Requirement already satisfied: jiter<1,>=0.4.0 in /opt/anaconda3/envs/dev/lib/python3.9/site-packages (from openai<2.0.0,>=1.58.1->langchain_openai) (0.8.2)\n",
            "Requirement already satisfied: pytz>=2020.1 in /opt/anaconda3/envs/dev/lib/python3.9/site-packages (from pandas<3.0,>=1.0->gradio) (2024.1)\n",
            "Requirement already satisfied: tzdata>=2022.7 in /opt/anaconda3/envs/dev/lib/python3.9/site-packages (from pandas<3.0,>=1.0->gradio) (2023.3)\n",
            "Requirement already satisfied: annotated-types>=0.6.0 in /opt/anaconda3/envs/dev/lib/python3.9/site-packages (from pydantic>=2.0->gradio) (0.6.0)\n",
            "Requirement already satisfied: pydantic-core==2.27.1 in /opt/anaconda3/envs/dev/lib/python3.9/site-packages (from pydantic>=2.0->gradio) (2.27.1)\n",
            "Requirement already satisfied: charset-normalizer<4,>=2 in /opt/anaconda3/envs/dev/lib/python3.9/site-packages (from requests<3,>=2->langchain_community) (2.0.4)\n",
            "Requirement already satisfied: regex>=2022.1.18 in /opt/anaconda3/envs/dev/lib/python3.9/site-packages (from tiktoken<1,>=0.7->langchain_openai) (2024.11.6)\n",
            "Requirement already satisfied: click>=8.0.0 in /opt/anaconda3/envs/dev/lib/python3.9/site-packages (from typer<1.0,>=0.12->gradio) (8.1.7)\n",
            "Requirement already satisfied: shellingham>=1.3.0 in /opt/anaconda3/envs/dev/lib/python3.9/site-packages (from typer<1.0,>=0.12->gradio) (1.5.0)\n",
            "Requirement already satisfied: pyproject_hooks in /opt/anaconda3/envs/dev/lib/python3.9/site-packages (from build>=1.0.3->chromadb!=0.5.10,!=0.5.11,!=0.5.12,!=0.5.4,!=0.5.5,!=0.5.7,!=0.5.9,<0.7.0,>=0.4.0->langchain_chroma) (1.2.0)\n",
            "Requirement already satisfied: importlib-metadata>=4.6 in /opt/anaconda3/envs/dev/lib/python3.9/site-packages (from build>=1.0.3->chromadb!=0.5.10,!=0.5.11,!=0.5.12,!=0.5.4,!=0.5.5,!=0.5.7,!=0.5.9,<0.7.0,>=0.4.0->langchain_chroma) (8.5.0)\n",
            "Requirement already satisfied: tomli>=1.1.0 in /opt/anaconda3/envs/dev/lib/python3.9/site-packages (from build>=1.0.3->chromadb!=0.5.10,!=0.5.11,!=0.5.12,!=0.5.4,!=0.5.5,!=0.5.7,!=0.5.9,<0.7.0,>=0.4.0->langchain_chroma) (2.2.1)\n",
            "Requirement already satisfied: jsonpointer>=1.9 in /opt/anaconda3/envs/dev/lib/python3.9/site-packages (from jsonpatch<2.0,>=1.33->langchain-core<1.0.0,>=0.3.37->langchain_community) (3.0.0)\n",
            "Requirement already satisfied: six>=1.9.0 in /opt/anaconda3/envs/dev/lib/python3.9/site-packages (from kubernetes>=28.1.0->chromadb!=0.5.10,!=0.5.11,!=0.5.12,!=0.5.4,!=0.5.5,!=0.5.7,!=0.5.9,<0.7.0,>=0.4.0->langchain_chroma) (1.17.0)\n",
            "Requirement already satisfied: google-auth>=1.0.1 in /opt/anaconda3/envs/dev/lib/python3.9/site-packages (from kubernetes>=28.1.0->chromadb!=0.5.10,!=0.5.11,!=0.5.12,!=0.5.4,!=0.5.5,!=0.5.7,!=0.5.9,<0.7.0,>=0.4.0->langchain_chroma) (2.29.0)\n",
            "Requirement already satisfied: websocket-client!=0.40.0,!=0.41.*,!=0.42.*,>=0.32.0 in /opt/anaconda3/envs/dev/lib/python3.9/site-packages (from kubernetes>=28.1.0->chromadb!=0.5.10,!=0.5.11,!=0.5.12,!=0.5.4,!=0.5.5,!=0.5.7,!=0.5.9,<0.7.0,>=0.4.0->langchain_chroma) (1.8.0)\n",
            "Requirement already satisfied: requests-oauthlib in /opt/anaconda3/envs/dev/lib/python3.9/site-packages (from kubernetes>=28.1.0->chromadb!=0.5.10,!=0.5.11,!=0.5.12,!=0.5.4,!=0.5.5,!=0.5.7,!=0.5.9,<0.7.0,>=0.4.0->langchain_chroma) (2.0.0)\n",
            "Requirement already satisfied: oauthlib>=3.2.2 in /opt/anaconda3/envs/dev/lib/python3.9/site-packages (from kubernetes>=28.1.0->chromadb!=0.5.10,!=0.5.11,!=0.5.12,!=0.5.4,!=0.5.5,!=0.5.7,!=0.5.9,<0.7.0,>=0.4.0->langchain_chroma) (3.2.2)\n",
            "Requirement already satisfied: durationpy>=0.7 in /opt/anaconda3/envs/dev/lib/python3.9/site-packages (from kubernetes>=28.1.0->chromadb!=0.5.10,!=0.5.11,!=0.5.12,!=0.5.4,!=0.5.5,!=0.5.7,!=0.5.9,<0.7.0,>=0.4.0->langchain_chroma) (0.9)\n",
            "Requirement already satisfied: coloredlogs in /opt/anaconda3/envs/dev/lib/python3.9/site-packages (from onnxruntime>=1.14.1->chromadb!=0.5.10,!=0.5.11,!=0.5.12,!=0.5.4,!=0.5.5,!=0.5.7,!=0.5.9,<0.7.0,>=0.4.0->langchain_chroma) (15.0.1)\n",
            "Requirement already satisfied: flatbuffers in /opt/anaconda3/envs/dev/lib/python3.9/site-packages (from onnxruntime>=1.14.1->chromadb!=0.5.10,!=0.5.11,!=0.5.12,!=0.5.4,!=0.5.5,!=0.5.7,!=0.5.9,<0.7.0,>=0.4.0->langchain_chroma) (24.3.25)\n",
            "Requirement already satisfied: protobuf in /opt/anaconda3/envs/dev/lib/python3.9/site-packages (from onnxruntime>=1.14.1->chromadb!=0.5.10,!=0.5.11,!=0.5.12,!=0.5.4,!=0.5.5,!=0.5.7,!=0.5.9,<0.7.0,>=0.4.0->langchain_chroma) (5.29.3)\n",
            "Requirement already satisfied: sympy in /opt/anaconda3/envs/dev/lib/python3.9/site-packages (from onnxruntime>=1.14.1->chromadb!=0.5.10,!=0.5.11,!=0.5.12,!=0.5.4,!=0.5.5,!=0.5.7,!=0.5.9,<0.7.0,>=0.4.0->langchain_chroma) (1.13.3)\n",
            "Requirement already satisfied: deprecated>=1.2.6 in /opt/anaconda3/envs/dev/lib/python3.9/site-packages (from opentelemetry-api>=1.2.0->chromadb!=0.5.10,!=0.5.11,!=0.5.12,!=0.5.4,!=0.5.5,!=0.5.7,!=0.5.9,<0.7.0,>=0.4.0->langchain_chroma) (1.2.18)\n",
            "Requirement already satisfied: googleapis-common-protos~=1.52 in /opt/anaconda3/envs/dev/lib/python3.9/site-packages (from opentelemetry-exporter-otlp-proto-grpc>=1.2.0->chromadb!=0.5.10,!=0.5.11,!=0.5.12,!=0.5.4,!=0.5.5,!=0.5.7,!=0.5.9,<0.7.0,>=0.4.0->langchain_chroma) (1.68.0)\n",
            "Requirement already satisfied: opentelemetry-exporter-otlp-proto-common==1.30.0 in /opt/anaconda3/envs/dev/lib/python3.9/site-packages (from opentelemetry-exporter-otlp-proto-grpc>=1.2.0->chromadb!=0.5.10,!=0.5.11,!=0.5.12,!=0.5.4,!=0.5.5,!=0.5.7,!=0.5.9,<0.7.0,>=0.4.0->langchain_chroma) (1.30.0)\n",
            "Requirement already satisfied: opentelemetry-proto==1.30.0 in /opt/anaconda3/envs/dev/lib/python3.9/site-packages (from opentelemetry-exporter-otlp-proto-grpc>=1.2.0->chromadb!=0.5.10,!=0.5.11,!=0.5.12,!=0.5.4,!=0.5.5,!=0.5.7,!=0.5.9,<0.7.0,>=0.4.0->langchain_chroma) (1.30.0)\n",
            "Requirement already satisfied: opentelemetry-instrumentation-asgi==0.51b0 in /opt/anaconda3/envs/dev/lib/python3.9/site-packages (from opentelemetry-instrumentation-fastapi>=0.41b0->chromadb!=0.5.10,!=0.5.11,!=0.5.12,!=0.5.4,!=0.5.5,!=0.5.7,!=0.5.9,<0.7.0,>=0.4.0->langchain_chroma) (0.51b0)\n",
            "Requirement already satisfied: opentelemetry-instrumentation==0.51b0 in /opt/anaconda3/envs/dev/lib/python3.9/site-packages (from opentelemetry-instrumentation-fastapi>=0.41b0->chromadb!=0.5.10,!=0.5.11,!=0.5.12,!=0.5.4,!=0.5.5,!=0.5.7,!=0.5.9,<0.7.0,>=0.4.0->langchain_chroma) (0.51b0)\n",
            "Requirement already satisfied: opentelemetry-semantic-conventions==0.51b0 in /opt/anaconda3/envs/dev/lib/python3.9/site-packages (from opentelemetry-instrumentation-fastapi>=0.41b0->chromadb!=0.5.10,!=0.5.11,!=0.5.12,!=0.5.4,!=0.5.5,!=0.5.7,!=0.5.9,<0.7.0,>=0.4.0->langchain_chroma) (0.51b0)\n",
            "Requirement already satisfied: opentelemetry-util-http==0.51b0 in /opt/anaconda3/envs/dev/lib/python3.9/site-packages (from opentelemetry-instrumentation-fastapi>=0.41b0->chromadb!=0.5.10,!=0.5.11,!=0.5.12,!=0.5.4,!=0.5.5,!=0.5.7,!=0.5.9,<0.7.0,>=0.4.0->langchain_chroma) (0.51b0)\n",
            "Requirement already satisfied: wrapt<2.0.0,>=1.0.0 in /opt/anaconda3/envs/dev/lib/python3.9/site-packages (from opentelemetry-instrumentation==0.51b0->opentelemetry-instrumentation-fastapi>=0.41b0->chromadb!=0.5.10,!=0.5.11,!=0.5.12,!=0.5.4,!=0.5.5,!=0.5.7,!=0.5.9,<0.7.0,>=0.4.0->langchain_chroma) (1.17.0)\n",
            "Requirement already satisfied: asgiref~=3.0 in /opt/anaconda3/envs/dev/lib/python3.9/site-packages (from opentelemetry-instrumentation-asgi==0.51b0->opentelemetry-instrumentation-fastapi>=0.41b0->chromadb!=0.5.10,!=0.5.11,!=0.5.12,!=0.5.4,!=0.5.5,!=0.5.7,!=0.5.9,<0.7.0,>=0.4.0->langchain_chroma) (3.8.1)\n",
            "Requirement already satisfied: monotonic>=1.5 in /opt/anaconda3/envs/dev/lib/python3.9/site-packages (from posthog>=2.4.0->chromadb!=0.5.10,!=0.5.11,!=0.5.12,!=0.5.4,!=0.5.5,!=0.5.7,!=0.5.9,<0.7.0,>=0.4.0->langchain_chroma) (1.6)\n",
            "Requirement already satisfied: backoff>=1.10.0 in /opt/anaconda3/envs/dev/lib/python3.9/site-packages (from posthog>=2.4.0->chromadb!=0.5.10,!=0.5.11,!=0.5.12,!=0.5.4,!=0.5.5,!=0.5.7,!=0.5.9,<0.7.0,>=0.4.0->langchain_chroma) (2.2.1)\n",
            "Requirement already satisfied: markdown-it-py>=2.2.0 in /opt/anaconda3/envs/dev/lib/python3.9/site-packages (from rich>=10.11.0->chromadb!=0.5.10,!=0.5.11,!=0.5.12,!=0.5.4,!=0.5.5,!=0.5.7,!=0.5.9,<0.7.0,>=0.4.0->langchain_chroma) (2.2.0)\n",
            "Requirement already satisfied: pygments<3.0.0,>=2.13.0 in /opt/anaconda3/envs/dev/lib/python3.9/site-packages (from rich>=10.11.0->chromadb!=0.5.10,!=0.5.11,!=0.5.12,!=0.5.4,!=0.5.5,!=0.5.7,!=0.5.9,<0.7.0,>=0.4.0->langchain_chroma) (2.19.1)\n",
            "Requirement already satisfied: mypy-extensions>=0.3.0 in /opt/anaconda3/envs/dev/lib/python3.9/site-packages (from typing-inspect<1,>=0.4.0->dataclasses-json<0.7,>=0.5.7->langchain_community) (1.0.0)\n",
            "Requirement already satisfied: httptools>=0.6.3 in /opt/anaconda3/envs/dev/lib/python3.9/site-packages (from uvicorn[standard]>=0.18.3->chromadb!=0.5.10,!=0.5.11,!=0.5.12,!=0.5.4,!=0.5.5,!=0.5.7,!=0.5.9,<0.7.0,>=0.4.0->langchain_chroma) (0.6.4)\n",
            "Requirement already satisfied: uvloop!=0.15.0,!=0.15.1,>=0.14.0 in /opt/anaconda3/envs/dev/lib/python3.9/site-packages (from uvicorn[standard]>=0.18.3->chromadb!=0.5.10,!=0.5.11,!=0.5.12,!=0.5.4,!=0.5.5,!=0.5.7,!=0.5.9,<0.7.0,>=0.4.0->langchain_chroma) (0.21.0)\n",
            "Requirement already satisfied: watchfiles>=0.13 in /opt/anaconda3/envs/dev/lib/python3.9/site-packages (from uvicorn[standard]>=0.18.3->chromadb!=0.5.10,!=0.5.11,!=0.5.12,!=0.5.4,!=0.5.5,!=0.5.7,!=0.5.9,<0.7.0,>=0.4.0->langchain_chroma) (1.0.4)\n",
            "Requirement already satisfied: cachetools<6.0,>=2.0.0 in /opt/anaconda3/envs/dev/lib/python3.9/site-packages (from google-auth>=1.0.1->kubernetes>=28.1.0->chromadb!=0.5.10,!=0.5.11,!=0.5.12,!=0.5.4,!=0.5.5,!=0.5.7,!=0.5.9,<0.7.0,>=0.4.0->langchain_chroma) (5.3.3)\n",
            "Requirement already satisfied: pyasn1-modules>=0.2.1 in /opt/anaconda3/envs/dev/lib/python3.9/site-packages (from google-auth>=1.0.1->kubernetes>=28.1.0->chromadb!=0.5.10,!=0.5.11,!=0.5.12,!=0.5.4,!=0.5.5,!=0.5.7,!=0.5.9,<0.7.0,>=0.4.0->langchain_chroma) (0.2.8)\n",
            "Requirement already satisfied: rsa<5,>=3.1.4 in /opt/anaconda3/envs/dev/lib/python3.9/site-packages (from google-auth>=1.0.1->kubernetes>=28.1.0->chromadb!=0.5.10,!=0.5.11,!=0.5.12,!=0.5.4,!=0.5.5,!=0.5.7,!=0.5.9,<0.7.0,>=0.4.0->langchain_chroma) (4.7.2)\n",
            "Requirement already satisfied: mdurl~=0.1 in /opt/anaconda3/envs/dev/lib/python3.9/site-packages (from markdown-it-py>=2.2.0->rich>=10.11.0->chromadb!=0.5.10,!=0.5.11,!=0.5.12,!=0.5.4,!=0.5.5,!=0.5.7,!=0.5.9,<0.7.0,>=0.4.0->langchain_chroma) (0.1.0)\n",
            "Requirement already satisfied: humanfriendly>=9.1 in /opt/anaconda3/envs/dev/lib/python3.9/site-packages (from coloredlogs->onnxruntime>=1.14.1->chromadb!=0.5.10,!=0.5.11,!=0.5.12,!=0.5.4,!=0.5.5,!=0.5.7,!=0.5.9,<0.7.0,>=0.4.0->langchain_chroma) (10.0)\n",
            "Requirement already satisfied: mpmath<1.4,>=1.1.0 in /opt/anaconda3/envs/dev/lib/python3.9/site-packages (from sympy->onnxruntime>=1.14.1->chromadb!=0.5.10,!=0.5.11,!=0.5.12,!=0.5.4,!=0.5.5,!=0.5.7,!=0.5.9,<0.7.0,>=0.4.0->langchain_chroma) (1.3.0)\n",
            "Requirement already satisfied: pyasn1<0.5.0,>=0.4.6 in /opt/anaconda3/envs/dev/lib/python3.9/site-packages (from pyasn1-modules>=0.2.1->google-auth>=1.0.1->kubernetes>=28.1.0->chromadb!=0.5.10,!=0.5.11,!=0.5.12,!=0.5.4,!=0.5.5,!=0.5.7,!=0.5.9,<0.7.0,>=0.4.0->langchain_chroma) (0.4.8)\n",
            "Note: you may need to restart the kernel to use updated packages.\n"
          ]
        }
      ],
      "source": [
        "%pip install langchain_community langchain_text_splitters langchain_openai langchain_chroma gradio python-dotenv pypdf"
      ]
    },
    {
      "cell_type": "markdown",
      "metadata": {},
      "source": [
        "## Requirements\n",
        "#### Vector Database = langchain_chroma\n",
        "#### Embeddings Model Provider= SentenceTransformerEmbeddings\n",
        "#### Embedding Model Name = model_name=\"all-mpnet-base-v2\""
      ]
    },
    {
      "cell_type": "code",
      "execution_count": 13,
      "metadata": {
        "colab": {
          "base_uri": "https://localhost:8080/"
        },
        "id": "MLEcArZTsQ-_",
        "outputId": "12b26867-7924-428a-de3c-f4a32cd9cf7d"
      },
      "outputs": [],
      "source": [
        "# from google.colab import drive\n",
        "\n",
        "# # Mount Google Drive\n",
        "# drive.mount('/content/drive')\n",
        "\n",
        "# # Define the Google Drive path where your documents are stored\n",
        "# DATA_PATH = '/content/drive/MyDrive/local_rag/data'"
      ]
    },
    {
      "cell_type": "code",
      "execution_count": 3,
      "metadata": {},
      "outputs": [],
      "source": [
        "# The DATA_PATH and CHROMA_PATH variables are defined in the cell below\n",
        "\n",
        "DATA_PATH = r\"data\"\n",
        "CHROMA_PATH = r\"chroma_db\""
      ]
    },
    {
      "cell_type": "code",
      "execution_count": 15,
      "metadata": {
        "colab": {
          "base_uri": "https://localhost:8080/"
        },
        "id": "MIDvFUgesnRd",
        "outputId": "0bbac479-d99a-450a-b890-010ba6634cbe"
      },
      "outputs": [
        {
          "name": "stdout",
          "output_type": "stream",
          "text": [
            "PDF Files: ['M20.1_Introduction_to_Natural_Language_Processing(NLP).pdf', 'M3.2__Programming_with_Functions___Part_2.pdf', 'M13.1__Linear_Classification.pdf', 'M19.2_Image_Classification_With_Neural Networks.pdf', 'M9.2_ Project 1 , Week 1.pdf', 'M15.3__AI_Laws_and_Regulations.pdf', 'M6.1__Sourcing_Data_for_AI_Projects.pdf', 'M18.1_Neural_Networks.pdf', 'M1.2_ The Impact of Machine Learning.pdf', 'M14.1__Model_Validation_and_Imbalanced_Data.pdf', 'M13.3__Model_Selection_and_Multiclass_Classification.pdf', 'M11.2__Unsupervised_Learning_in_Practice.pdf', 'M8.1__Introduction_to_Time_Series.pdf', 'M3.3__Python_Classes_and_OOP.pdf', 'M7.3_Visualization_and_Statistics.pdf', 'M15.2__Legal_and_Ethical_Issues_in_AI.pdf', 'M2.2_Programming Decisions.pdf', 'M6.2__Accessing__APIs_Securely.pdf', 'M1.3_ Overview of Machine Learning Tools.pdf', 'M2.1_ Programming Basics.pdf', 'M13.2__Nonlinear_Classification.pdf', 'M11.1__Introduction_to_Machine_Learning.pdf', 'M20.2_Advanced_NLP_Techniques_TextExtraction_and_Classification.pdf', 'M16.1__Project_2__Week_1.pdf', 'M20.3_Advanced_NLP_Techniques_Topic_Modeling_andRNN.pdf', 'M2.3__Complex_Programming_Decisions.pdf', 'M3.1__Programming_with_Functions___Part_1.pdf', 'M15.1__AI_Ethics_An_Introduction.pdf', 'M7.1__Exploring_Data_through_Visualizations.pdf', 'M11.3__Principal_Component_Analysis__PCA_.pdf', 'M14.3__Tuning_Models_and_Sampling_Data.pdf', 'M5.1__Combining_DataFrames_with_Pandas.pdf', 'M1.1__Overview_of_AI_and_Machine_Learning.pdf', 'M12.3__Machine_Learning_Pipeline_and_Mini-Project.pdf', 'M18.2_Neural_Networks_for_Classification.pdf', 'M7.2__Visualizing_DataFrames_using_Pandas.pdf', 'M8.3__Time_Series_Forecasting_with_Prophet.pdf', 'M5.3__Advanced_Data_Reshaping_with_Pandas.pdf', 'M12.1__Introduction_to_Supervised_Learning_and_Linear_Regression.pdf', 'M4.2__Exploring_Data_with_Pandas.pdf', 'M8.2__Introduction_to_Time_Series_Forecasting.pdf', 'M9.1_ Project 1, Week 1.pdf', 'M18.3_RBMs_and_Recommendation_Systems.pdf', 'M4.3__Transforming_Data_with_Pandas.pdf', 'M14.2__Advanced_Preprocessing_Techniques.pdf', 'M19.1_Preprocessing_Image_Data.pdf', 'M12.2__Advanced_Regression_Techniques.pdf', 'M6.3__SDKs_and__Mini_In-Class_Project.pdf', 'M4.1__Introduction_to_Pandas.pdf', 'M5.2__Grouping__Aggregating__and_Binning_Data_with_Pandas.pdf', 'M9.3_ Project 1, Week 1.pdf', 'M19.3_Multiclass_Image_Classification_With_CNNs.pdf']\n",
            "DOCX Files: []\n"
          ]
        }
      ],
      "source": [
        "import os\n",
        "\n",
        "# Get a list of all files in the specified folder\n",
        "file_list = os.listdir(DATA_PATH)\n",
        "\n",
        "# Filter the list to only include files with .pdf or .docx extensions\n",
        "pdf_files = [f for f in file_list if f.endswith('.pdf')]\n",
        "docx_files = [f for f in file_list if f.endswith('.docx')]\n",
        "\n",
        "# Example: Print the list of PDF and DOCX files in the folder\n",
        "print(\"PDF Files:\", pdf_files)\n",
        "print(\"DOCX Files:\", docx_files)"
      ]
    },
    {
      "cell_type": "code",
      "execution_count": 1,
      "metadata": {},
      "outputs": [
        {
          "data": {
            "text/plain": [
              "True"
            ]
          },
          "execution_count": 1,
          "metadata": {},
          "output_type": "execute_result"
        }
      ],
      "source": [
        "# import the .env file\n",
        "from dotenv import load_dotenv\n",
        "load_dotenv()"
      ]
    },
    {
      "cell_type": "code",
      "execution_count": 4,
      "metadata": {},
      "outputs": [
        {
          "name": "stderr",
          "output_type": "stream",
          "text": [
            "/var/folders/5p/y9vfdxz132b7tj62wggjh0_m0000gn/T/ipykernel_41795/4055050150.py:11: LangChainDeprecationWarning: The class `Chroma` was deprecated in LangChain 0.2.9 and will be removed in 1.0. An updated version of the class exists in the :class:`~langchain-chroma package and should be used instead. To use it run `pip install -U :class:`~langchain-chroma` and import as `from :class:`~langchain_chroma import Chroma``.\n",
            "  vector_store = Chroma(\n"
          ]
        }
      ],
      "source": [
        "# Import necessary modules\n",
        "import os\n",
        "import time\n",
        "from langchain.embeddings import SentenceTransformerEmbeddings\n",
        "from langchain.vectorstores import Chroma\n",
        "\n",
        "# Initialize the embeddings model with the specified model name\n",
        "embeddings_model = SentenceTransformerEmbeddings(model_name=\"all-mpnet-base-v2\")\n",
        "\n",
        "# Initialize the vector store with the specified collection name, embedding function, and persistence directory\n",
        "vector_store = Chroma(\n",
        "    collection_name=\"example_collection\",\n",
        "    embedding_function=embeddings_model,\n",
        "    persist_directory=CHROMA_PATH,\n",
        ")\n"
      ]
    },
    {
      "cell_type": "code",
      "execution_count": 19,
      "metadata": {},
      "outputs": [
        {
          "name": "stdout",
          "output_type": "stream",
          "text": [
            "stored_files: set()\n"
          ]
        },
        {
          "data": {
            "text/plain": [
              "set()"
            ]
          },
          "execution_count": 19,
          "metadata": {},
          "output_type": "execute_result"
        }
      ],
      "source": [
        "def indexed_files(vector_store):\n",
        "    stored_files = set(\n",
        "        [\n",
        "            meta[\"source\"].split(\"/\")[-1]\n",
        "            for meta in vector_store._collection.get(include=[\"metadatas\"])[\"metadatas\"]\n",
        "            if meta and \"source\" in meta\n",
        "        ]\n",
        "    )\n",
        "\n",
        "    print (\"stored_files:\",stored_files)\n",
        "    return stored_files\n",
        "\n",
        "indexed_files(vector_store)"
      ]
    },
    {
      "cell_type": "code",
      "execution_count": 5,
      "metadata": {},
      "outputs": [],
      "source": [
        "from langchain.document_loaders import PyPDFLoader\n",
        "from langchain.text_splitter import RecursiveCharacterTextSplitter\n",
        "from uuid import uuid4\n",
        "\n",
        "\n",
        "def process_files(vector_store, embeddings_model):\n",
        "    \"\"\"\n",
        "    Processes files in DATA_PATH, adding new files and removing deleted files.\n",
        "    \"\"\"\n",
        "    current_files = set(os.listdir(DATA_PATH))\n",
        "    updates = False\n",
        "    print (\"current_files:\",current_files)\n",
        "\n",
        "    stored_files = indexed_files(vector_store)\n",
        "\n",
        "\n",
        "    # Find new files\n",
        "    new_files = current_files - stored_files\n",
        "    for filename in new_files:\n",
        "        updates = True\n",
        "        if filename.endswith(\".pdf\"):\n",
        "            filepath = os.path.join(DATA_PATH, filename)\n",
        "            loader = PyPDFLoader(filepath)\n",
        "            raw_documents = loader.load()\n",
        "\n",
        "            text_splitter = RecursiveCharacterTextSplitter(\n",
        "                chunk_size=300,\n",
        "                chunk_overlap=100,\n",
        "                length_function=len,\n",
        "                is_separator_regex=False,\n",
        "            )\n",
        "            chunks = text_splitter.split_documents(raw_documents)\n",
        "            print (\"Document Split Complete\",filename)\n",
        "\n",
        "            # Index original document chunks\n",
        "            uuids = [str(uuid4()) for _ in range(len(chunks))]\n",
        "            vector_store.add_documents(documents=chunks, ids=uuids)\n",
        "\n",
        "            print(f\"Added file: {filename}\")\n",
        "\n",
        "    # Find deleted files\n",
        "    deleted_files = stored_files - current_files\n",
        "    for filename in deleted_files:\n",
        "        updates = True\n",
        "        if filename.endswith(\".pdf\"):\n",
        "            filepath = os.path.join(DATA_PATH, filename)\n",
        "            # Find document IDs associated with the deleted file\n",
        "            results = vector_store._collection.get(\n",
        "                where={\"source\": filepath}, include=[\"ids\"]\n",
        "            )\n",
        "            if \"ids\" in results:\n",
        "                ids_to_delete = results[\"ids\"]\n",
        "                vector_store._collection.delete(ids=ids_to_delete)\n",
        "                print(f\"Deleted file: {filename}\")\n",
        "    \n",
        "    print(\"-\" * 80)\n",
        "    if updates:\n",
        "        print(\"Added files: \", new_files)\n",
        "        print(\"Removed files: \", deleted_files)\n",
        "\n",
        "    else:    \n",
        "        print(\"No changes detected.\")\n",
        "\n",
        "def run_periodic_check(interval_seconds = 60):\n",
        "    \"\"\"\n",
        "    Runs the periodic file check in a notebook environment.\n",
        "    \"\"\"\n",
        "    \n",
        "    print(f\"Checked for file changes....\")\n",
        "\n",
        "    process_files(vector_store, embeddings_model)\n",
        "    # while True:\n",
        "    #     process_files(vector_store, embeddings_model)\n",
        "    #     time.sleep(interval_seconds)\n",
        "    #     print(f\"Checked for file changes. Next check in {interval_seconds} seconds...\")\n",
        "\n"
      ]
    },
    {
      "cell_type": "code",
      "execution_count": 21,
      "metadata": {},
      "outputs": [
        {
          "name": "stdout",
          "output_type": "stream",
          "text": [
            "Checked for file changes....\n",
            "current_files: {'M9.1_ Project 1, Week 1.pdf', 'M4.1__Introduction_to_Pandas.pdf', 'M18.1_Neural_Networks.pdf', 'M7.3_Visualization_and_Statistics.pdf', 'M20.1_Introduction_to_Natural_Language_Processing(NLP).pdf', 'M20.2_Advanced_NLP_Techniques_TextExtraction_and_Classification.pdf', 'M6.2__Accessing__APIs_Securely.pdf', 'M3.1__Programming_with_Functions___Part_1.pdf', 'M13.3__Model_Selection_and_Multiclass_Classification.pdf', 'M9.2_ Project 1 , Week 1.pdf', 'M8.3__Time_Series_Forecasting_with_Prophet.pdf', '.DS_Store', 'M2.1_ Programming Basics.pdf', 'M1.2_ The Impact of Machine Learning.pdf', 'M4.3__Transforming_Data_with_Pandas.pdf', 'M6.1__Sourcing_Data_for_AI_Projects.pdf', 'M5.1__Combining_DataFrames_with_Pandas.pdf', 'M12.3__Machine_Learning_Pipeline_and_Mini-Project.pdf', 'M3.2__Programming_with_Functions___Part_2.pdf', 'M14.1__Model_Validation_and_Imbalanced_Data.pdf', 'M18.2_Neural_Networks_for_Classification.pdf', 'M6.3__SDKs_and__Mini_In-Class_Project.pdf', 'M12.1__Introduction_to_Supervised_Learning_and_Linear_Regression.pdf', 'M15.3__AI_Laws_and_Regulations.pdf', 'M4.2__Exploring_Data_with_Pandas.pdf', 'M5.2__Grouping__Aggregating__and_Binning_Data_with_Pandas.pdf', 'M11.3__Principal_Component_Analysis__PCA_.pdf', 'M15.2__Legal_and_Ethical_Issues_in_AI.pdf', 'M2.3__Complex_Programming_Decisions.pdf', 'M1.1__Overview_of_AI_and_Machine_Learning.pdf', 'M5.3__Advanced_Data_Reshaping_with_Pandas.pdf', 'M14.2__Advanced_Preprocessing_Techniques.pdf', 'M19.2_Image_Classification_With_Neural Networks.pdf', 'M12.2__Advanced_Regression_Techniques.pdf', 'M8.1__Introduction_to_Time_Series.pdf', 'M13.2__Nonlinear_Classification.pdf', 'M15.1__AI_Ethics_An_Introduction.pdf', 'M14.3__Tuning_Models_and_Sampling_Data.pdf', 'M9.3_ Project 1, Week 1.pdf', 'M3.3__Python_Classes_and_OOP.pdf', 'M7.2__Visualizing_DataFrames_using_Pandas.pdf', 'M16.1__Project_2__Week_1.pdf', 'M13.1__Linear_Classification.pdf', 'M11.2__Unsupervised_Learning_in_Practice.pdf', 'M1.3_ Overview of Machine Learning Tools.pdf', 'M19.1_Preprocessing_Image_Data.pdf', 'M11.1__Introduction_to_Machine_Learning.pdf', 'M7.1__Exploring_Data_through_Visualizations.pdf', 'M2.2_Programming Decisions.pdf', 'M18.3_RBMs_and_Recommendation_Systems.pdf', 'M20.3_Advanced_NLP_Techniques_Topic_Modeling_andRNN.pdf', 'M19.3_Multiclass_Image_Classification_With_CNNs.pdf', 'M8.2__Introduction_to_Time_Series_Forecasting.pdf'}\n",
            "stored_files: set()\n",
            "Document Split Complete M9.1_ Project 1, Week 1.pdf\n",
            "Added file: M9.1_ Project 1, Week 1.pdf\n",
            "Document Split Complete M4.1__Introduction_to_Pandas.pdf\n",
            "Added file: M4.1__Introduction_to_Pandas.pdf\n",
            "Document Split Complete M18.1_Neural_Networks.pdf\n",
            "Added file: M18.1_Neural_Networks.pdf\n",
            "Document Split Complete M7.3_Visualization_and_Statistics.pdf\n",
            "Added file: M7.3_Visualization_and_Statistics.pdf\n",
            "Document Split Complete M20.1_Introduction_to_Natural_Language_Processing(NLP).pdf\n",
            "Added file: M20.1_Introduction_to_Natural_Language_Processing(NLP).pdf\n",
            "Document Split Complete M20.2_Advanced_NLP_Techniques_TextExtraction_and_Classification.pdf\n",
            "Added file: M20.2_Advanced_NLP_Techniques_TextExtraction_and_Classification.pdf\n",
            "Document Split Complete M6.2__Accessing__APIs_Securely.pdf\n",
            "Added file: M6.2__Accessing__APIs_Securely.pdf\n",
            "Document Split Complete M3.1__Programming_with_Functions___Part_1.pdf\n",
            "Added file: M3.1__Programming_with_Functions___Part_1.pdf\n",
            "Document Split Complete M13.3__Model_Selection_and_Multiclass_Classification.pdf\n",
            "Added file: M13.3__Model_Selection_and_Multiclass_Classification.pdf\n",
            "Document Split Complete M9.2_ Project 1 , Week 1.pdf\n",
            "Added file: M9.2_ Project 1 , Week 1.pdf\n",
            "Document Split Complete M8.3__Time_Series_Forecasting_with_Prophet.pdf\n"
          ]
        },
        {
          "name": "stderr",
          "output_type": "stream",
          "text": [
            "could not convert string to float: b'0.00-29555193' : FloatObject (b'0.00-29555193') invalid; use 0.0 instead\n",
            "could not convert string to float: b'0.00-22356359' : FloatObject (b'0.00-22356359') invalid; use 0.0 instead\n"
          ]
        },
        {
          "name": "stdout",
          "output_type": "stream",
          "text": [
            "Added file: M8.3__Time_Series_Forecasting_with_Prophet.pdf\n",
            "Document Split Complete M2.1_ Programming Basics.pdf\n",
            "Added file: M2.1_ Programming Basics.pdf\n",
            "Document Split Complete M1.2_ The Impact of Machine Learning.pdf\n"
          ]
        },
        {
          "name": "stderr",
          "output_type": "stream",
          "text": [
            "could not convert string to float: b'0.000-29396326' : FloatObject (b'0.000-29396326') invalid; use 0.0 instead\n"
          ]
        },
        {
          "name": "stdout",
          "output_type": "stream",
          "text": [
            "Added file: M1.2_ The Impact of Machine Learning.pdf\n",
            "Document Split Complete M4.3__Transforming_Data_with_Pandas.pdf\n"
          ]
        },
        {
          "name": "stderr",
          "output_type": "stream",
          "text": [
            "could not convert string to float: b'0.0000-52493438' : FloatObject (b'0.0000-52493438') invalid; use 0.0 instead\n",
            "could not convert string to float: b'0.0000-52493438' : FloatObject (b'0.0000-52493438') invalid; use 0.0 instead\n",
            "could not convert string to float: b'0.00-50' : FloatObject (b'0.00-50') invalid; use 0.0 instead\n",
            "could not convert string to float: b'0.00-50' : FloatObject (b'0.00-50') invalid; use 0.0 instead\n",
            "could not convert string to float: b'0.0000-13123359' : FloatObject (b'0.0000-13123359') invalid; use 0.0 instead\n"
          ]
        },
        {
          "name": "stdout",
          "output_type": "stream",
          "text": [
            "Added file: M4.3__Transforming_Data_with_Pandas.pdf\n",
            "Document Split Complete M6.1__Sourcing_Data_for_AI_Projects.pdf\n",
            "Added file: M6.1__Sourcing_Data_for_AI_Projects.pdf\n",
            "Document Split Complete M5.1__Combining_DataFrames_with_Pandas.pdf\n",
            "Added file: M5.1__Combining_DataFrames_with_Pandas.pdf\n",
            "Document Split Complete M12.3__Machine_Learning_Pipeline_and_Mini-Project.pdf\n",
            "Added file: M12.3__Machine_Learning_Pipeline_and_Mini-Project.pdf\n",
            "Document Split Complete M3.2__Programming_with_Functions___Part_2.pdf\n",
            "Added file: M3.2__Programming_with_Functions___Part_2.pdf\n",
            "Document Split Complete M14.1__Model_Validation_and_Imbalanced_Data.pdf\n",
            "Added file: M14.1__Model_Validation_and_Imbalanced_Data.pdf\n",
            "Document Split Complete M18.2_Neural_Networks_for_Classification.pdf\n",
            "Added file: M18.2_Neural_Networks_for_Classification.pdf\n",
            "Document Split Complete M6.3__SDKs_and__Mini_In-Class_Project.pdf\n",
            "Added file: M6.3__SDKs_and__Mini_In-Class_Project.pdf\n",
            "Document Split Complete M12.1__Introduction_to_Supervised_Learning_and_Linear_Regression.pdf\n",
            "Added file: M12.1__Introduction_to_Supervised_Learning_and_Linear_Regression.pdf\n",
            "Document Split Complete M15.3__AI_Laws_and_Regulations.pdf\n",
            "Added file: M15.3__AI_Laws_and_Regulations.pdf\n",
            "Document Split Complete M4.2__Exploring_Data_with_Pandas.pdf\n",
            "Added file: M4.2__Exploring_Data_with_Pandas.pdf\n",
            "Document Split Complete M5.2__Grouping__Aggregating__and_Binning_Data_with_Pandas.pdf\n",
            "Added file: M5.2__Grouping__Aggregating__and_Binning_Data_with_Pandas.pdf\n",
            "Document Split Complete M11.3__Principal_Component_Analysis__PCA_.pdf\n",
            "Added file: M11.3__Principal_Component_Analysis__PCA_.pdf\n",
            "Document Split Complete M15.2__Legal_and_Ethical_Issues_in_AI.pdf\n"
          ]
        },
        {
          "name": "stderr",
          "output_type": "stream",
          "text": [
            "could not convert string to float: b'0.00-25406823' : FloatObject (b'0.00-25406823') invalid; use 0.0 instead\n"
          ]
        },
        {
          "name": "stdout",
          "output_type": "stream",
          "text": [
            "Added file: M15.2__Legal_and_Ethical_Issues_in_AI.pdf\n",
            "Document Split Complete M2.3__Complex_Programming_Decisions.pdf\n",
            "Added file: M2.3__Complex_Programming_Decisions.pdf\n",
            "Document Split Complete M1.1__Overview_of_AI_and_Machine_Learning.pdf\n",
            "Added file: M1.1__Overview_of_AI_and_Machine_Learning.pdf\n",
            "Document Split Complete M5.3__Advanced_Data_Reshaping_with_Pandas.pdf\n",
            "Added file: M5.3__Advanced_Data_Reshaping_with_Pandas.pdf\n",
            "Document Split Complete M14.2__Advanced_Preprocessing_Techniques.pdf\n",
            "Added file: M14.2__Advanced_Preprocessing_Techniques.pdf\n",
            "Document Split Complete M19.2_Image_Classification_With_Neural Networks.pdf\n",
            "Added file: M19.2_Image_Classification_With_Neural Networks.pdf\n",
            "Document Split Complete M12.2__Advanced_Regression_Techniques.pdf\n",
            "Added file: M12.2__Advanced_Regression_Techniques.pdf\n"
          ]
        },
        {
          "name": "stderr",
          "output_type": "stream",
          "text": [
            "could not convert string to float: b'0.00-60' : FloatObject (b'0.00-60') invalid; use 0.0 instead\n",
            "could not convert string to float: b'0.00-60' : FloatObject (b'0.00-60') invalid; use 0.0 instead\n",
            "could not convert string to float: b'0.00-60' : FloatObject (b'0.00-60') invalid; use 0.0 instead\n",
            "could not convert string to float: b'0.00-60' : FloatObject (b'0.00-60') invalid; use 0.0 instead\n"
          ]
        },
        {
          "name": "stdout",
          "output_type": "stream",
          "text": [
            "Document Split Complete M8.1__Introduction_to_Time_Series.pdf\n",
            "Added file: M8.1__Introduction_to_Time_Series.pdf\n",
            "Document Split Complete M13.2__Nonlinear_Classification.pdf\n",
            "Added file: M13.2__Nonlinear_Classification.pdf\n",
            "Document Split Complete M15.1__AI_Ethics_An_Introduction.pdf\n",
            "Added file: M15.1__AI_Ethics_An_Introduction.pdf\n",
            "Document Split Complete M14.3__Tuning_Models_and_Sampling_Data.pdf\n",
            "Added file: M14.3__Tuning_Models_and_Sampling_Data.pdf\n",
            "Document Split Complete M9.3_ Project 1, Week 1.pdf\n",
            "Added file: M9.3_ Project 1, Week 1.pdf\n",
            "Document Split Complete M3.3__Python_Classes_and_OOP.pdf\n",
            "Added file: M3.3__Python_Classes_and_OOP.pdf\n",
            "Document Split Complete M7.2__Visualizing_DataFrames_using_Pandas.pdf\n",
            "Added file: M7.2__Visualizing_DataFrames_using_Pandas.pdf\n",
            "Document Split Complete M16.1__Project_2__Week_1.pdf\n",
            "Added file: M16.1__Project_2__Week_1.pdf\n",
            "Document Split Complete M13.1__Linear_Classification.pdf\n",
            "Added file: M13.1__Linear_Classification.pdf\n",
            "Document Split Complete M11.2__Unsupervised_Learning_in_Practice.pdf\n",
            "Added file: M11.2__Unsupervised_Learning_in_Practice.pdf\n",
            "Document Split Complete M1.3_ Overview of Machine Learning Tools.pdf\n",
            "Added file: M1.3_ Overview of Machine Learning Tools.pdf\n",
            "Document Split Complete M19.1_Preprocessing_Image_Data.pdf\n",
            "Added file: M19.1_Preprocessing_Image_Data.pdf\n",
            "Document Split Complete M11.1__Introduction_to_Machine_Learning.pdf\n",
            "Added file: M11.1__Introduction_to_Machine_Learning.pdf\n",
            "Document Split Complete M7.1__Exploring_Data_through_Visualizations.pdf\n",
            "Added file: M7.1__Exploring_Data_through_Visualizations.pdf\n",
            "Document Split Complete M2.2_Programming Decisions.pdf\n",
            "Added file: M2.2_Programming Decisions.pdf\n",
            "Document Split Complete M18.3_RBMs_and_Recommendation_Systems.pdf\n",
            "Added file: M18.3_RBMs_and_Recommendation_Systems.pdf\n",
            "Document Split Complete M20.3_Advanced_NLP_Techniques_Topic_Modeling_andRNN.pdf\n",
            "Added file: M20.3_Advanced_NLP_Techniques_Topic_Modeling_andRNN.pdf\n",
            "Document Split Complete M19.3_Multiclass_Image_Classification_With_CNNs.pdf\n",
            "Added file: M19.3_Multiclass_Image_Classification_With_CNNs.pdf\n",
            "Document Split Complete M8.2__Introduction_to_Time_Series_Forecasting.pdf\n",
            "Added file: M8.2__Introduction_to_Time_Series_Forecasting.pdf\n",
            "--------------------------------------------------------------------------------\n",
            "Added files:  {'M9.1_ Project 1, Week 1.pdf', 'M4.1__Introduction_to_Pandas.pdf', 'M18.1_Neural_Networks.pdf', 'M7.3_Visualization_and_Statistics.pdf', 'M20.1_Introduction_to_Natural_Language_Processing(NLP).pdf', 'M20.2_Advanced_NLP_Techniques_TextExtraction_and_Classification.pdf', 'M6.2__Accessing__APIs_Securely.pdf', 'M3.1__Programming_with_Functions___Part_1.pdf', 'M13.3__Model_Selection_and_Multiclass_Classification.pdf', 'M9.2_ Project 1 , Week 1.pdf', 'M8.3__Time_Series_Forecasting_with_Prophet.pdf', '.DS_Store', 'M2.1_ Programming Basics.pdf', 'M1.2_ The Impact of Machine Learning.pdf', 'M4.3__Transforming_Data_with_Pandas.pdf', 'M6.1__Sourcing_Data_for_AI_Projects.pdf', 'M5.1__Combining_DataFrames_with_Pandas.pdf', 'M12.3__Machine_Learning_Pipeline_and_Mini-Project.pdf', 'M3.2__Programming_with_Functions___Part_2.pdf', 'M14.1__Model_Validation_and_Imbalanced_Data.pdf', 'M18.2_Neural_Networks_for_Classification.pdf', 'M6.3__SDKs_and__Mini_In-Class_Project.pdf', 'M12.1__Introduction_to_Supervised_Learning_and_Linear_Regression.pdf', 'M15.3__AI_Laws_and_Regulations.pdf', 'M4.2__Exploring_Data_with_Pandas.pdf', 'M5.2__Grouping__Aggregating__and_Binning_Data_with_Pandas.pdf', 'M11.3__Principal_Component_Analysis__PCA_.pdf', 'M15.2__Legal_and_Ethical_Issues_in_AI.pdf', 'M2.3__Complex_Programming_Decisions.pdf', 'M1.1__Overview_of_AI_and_Machine_Learning.pdf', 'M5.3__Advanced_Data_Reshaping_with_Pandas.pdf', 'M14.2__Advanced_Preprocessing_Techniques.pdf', 'M19.2_Image_Classification_With_Neural Networks.pdf', 'M12.2__Advanced_Regression_Techniques.pdf', 'M8.1__Introduction_to_Time_Series.pdf', 'M13.2__Nonlinear_Classification.pdf', 'M15.1__AI_Ethics_An_Introduction.pdf', 'M14.3__Tuning_Models_and_Sampling_Data.pdf', 'M9.3_ Project 1, Week 1.pdf', 'M3.3__Python_Classes_and_OOP.pdf', 'M7.2__Visualizing_DataFrames_using_Pandas.pdf', 'M16.1__Project_2__Week_1.pdf', 'M13.1__Linear_Classification.pdf', 'M11.2__Unsupervised_Learning_in_Practice.pdf', 'M1.3_ Overview of Machine Learning Tools.pdf', 'M19.1_Preprocessing_Image_Data.pdf', 'M11.1__Introduction_to_Machine_Learning.pdf', 'M7.1__Exploring_Data_through_Visualizations.pdf', 'M2.2_Programming Decisions.pdf', 'M18.3_RBMs_and_Recommendation_Systems.pdf', 'M20.3_Advanced_NLP_Techniques_Topic_Modeling_andRNN.pdf', 'M19.3_Multiclass_Image_Classification_With_CNNs.pdf', 'M8.2__Introduction_to_Time_Series_Forecasting.pdf'}\n",
            "Removed files:  set()\n"
          ]
        }
      ],
      "source": [
        "# To start the periodic check in your notebook, call this function:\n",
        "run_periodic_check()\n",
        "\n",
        "# To stop the check, you'll need to interrupt the kernel."
      ]
    },
    {
      "cell_type": "markdown",
      "metadata": {},
      "source": [
        "# Testing the knowledge base"
      ]
    },
    {
      "cell_type": "code",
      "execution_count": 23,
      "metadata": {
        "colab": {
          "base_uri": "https://localhost:8080/"
        },
        "id": "PuB7nzPpEl48",
        "outputId": "e8b7af67-c0b5-4d7d-d243-b1f65e5548c9"
      },
      "outputs": [
        {
          "name": "stdout",
          "output_type": "stream",
          "text": [
            "Result 1:\n",
            "page_content='Neural Network is an advanced form \n",
            "of machine learning that contains \n",
            "multiple layers of nodes which \n",
            "perform individual computations.' metadata={'creationdate': '', 'creator': 'Google', 'page': 8, 'page_label': '9', 'producer': 'PyPDF', 'source': 'data/M18.1_Neural_Networks.pdf', 'title': 'M18.1: Neural Networks', 'total_pages': 71}\n",
            "--------------------------------------------------------------------------------\n",
            "Result 2:\n",
            "page_content='Neural networks are a powerful \n",
            "machine learning technique \n",
            "modeled after neurons in the brain.\n",
            "Industry leaders such as \n",
            "Google, Facebook, Twitter, and \n",
            "Amazon use neural networks \n",
            "for analyzing complex datasets.\n",
            "What is a neural network?' metadata={'creationdate': '', 'creator': 'Google', 'page': 6, 'page_label': '7', 'producer': 'PyPDF', 'source': 'data/M18.1_Neural_Networks.pdf', 'title': 'M18.1: Neural Networks', 'total_pages': 71}\n",
            "--------------------------------------------------------------------------------\n",
            "Result 3:\n",
            "page_content='Instructor Demonstration\n",
            "What is a Neural Network?' metadata={'creationdate': '', 'creator': 'Google', 'page': 5, 'page_label': '6', 'producer': 'PyPDF', 'source': 'data/M18.1_Neural_Networks.pdf', 'title': 'M18.1: Neural Networks', 'total_pages': 71}\n",
            "--------------------------------------------------------------------------------\n",
            "Result 4:\n",
            "page_content='Neural networks are a set of algorithms \n",
            "that are modeled after the human brain. \n",
            "Neural networks are designed to mimic \n",
            "the way our brains function, with \n",
            "artiﬁcial neutrons serving the same \n",
            "purpose as our biological neurons.' metadata={'creationdate': '', 'creator': 'Google', 'page': 10, 'page_label': '11', 'producer': 'PyPDF', 'source': 'data/M1.2_ The Impact of Machine Learning.pdf', 'title': 'M1.2: The Impact of Machine Learning', 'total_pages': 50}\n",
            "--------------------------------------------------------------------------------\n",
            "Result 5:\n",
            "page_content='The Neural Network\n",
            "A modern neural network model \n",
            "is a structure composed of \n",
            "several connected perceptrons \n",
            "that learn from input data to \n",
            "produce an output.\n",
            "Input Hidden layer Output' metadata={'creationdate': '', 'creator': 'Google', 'page': 37, 'page_label': '38', 'producer': 'PyPDF', 'source': 'data/M18.1_Neural_Networks.pdf', 'title': 'M18.1: Neural Networks', 'total_pages': 71}\n",
            "--------------------------------------------------------------------------------\n"
          ]
        }
      ],
      "source": [
        "num_results = 5\n",
        "\n",
        "retriever = vector_store.as_retriever(search_kwargs={'k': num_results})\n",
        "\n",
        "docs = retriever.invoke(\"What is a neural network?\")\n",
        "for i, doc in enumerate(docs, 1):\n",
        "    print(f\"Result {i}:\")\n",
        "    print(doc)\n",
        "    print(\"-\" * 80)\n",
        "#print((docs[0].metadata[\"source\"], docs[0].metadata[\"page_label\"]))"
      ]
    }
  ],
  "metadata": {
    "colab": {
      "provenance": []
    },
    "kernelspec": {
      "display_name": "dev",
      "language": "python",
      "name": "python3"
    },
    "language_info": {
      "codemirror_mode": {
        "name": "ipython",
        "version": 3
      },
      "file_extension": ".py",
      "mimetype": "text/x-python",
      "name": "python",
      "nbconvert_exporter": "python",
      "pygments_lexer": "ipython3",
      "version": "3.9.15"
    }
  },
  "nbformat": 4,
  "nbformat_minor": 0
}
